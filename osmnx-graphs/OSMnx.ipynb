{
 "cells": [
  {
   "cell_type": "markdown",
   "metadata": {},
   "source": [
    "# Creating figure ground diagrams with OSMnx\n",
    "\n",
    "This example is drawn from [Geoff Boeing](https://github.com/gboeing/osmnx)"
   ]
  },
  {
   "cell_type": "markdown",
   "metadata": {},
   "source": [
    "### 1. Load dependencies and configure settings"
   ]
  },
  {
   "cell_type": "code",
   "execution_count": 29,
   "metadata": {},
   "outputs": [],
   "source": [
    "import osmnx as ox\n",
    "from IPython.display import Image\n",
    "%matplotlib inline\n",
    "ox.config(log_console=True, use_cache=True)\n",
    "ox.__version__"
   ]
  },
  {
   "cell_type": "code",
   "execution_count": 30,
   "metadata": {},
   "outputs": [],
   "source": [
    "# set parameters for the images\n",
    "img_folder = 'images'\n",
    "extension = 'png'\n",
    "size = 240\n",
    "dpi = 300"
   ]
  },
  {
   "cell_type": "markdown",
   "metadata": {},
   "source": [
    "### 2. Store coordinates for graphs, colours for plotting, and widths for streets"
   ]
  },
  {
   "cell_type": "code",
   "execution_count": 31,
   "metadata": {},
   "outputs": [],
   "source": [
    "# places to create figures from\n",
    "gh = (51.523438, -0.121536)\n",
    "wa = (51.499260, -0.127294)\n",
    "sp = (51.513763, -0.098365)\n",
    "cr = (51.529066, -0.069620)\n",
    "\n",
    "# html colour codes \n",
    "purp = \"#5d576b\"\n",
    "coral = \"#f88379\"\n",
    "tuscan = \"#dfd5a5\"\n",
    "charcoal = \"#373f51\"\n",
    "vanilla = \"#cacaaa\"\n",
    "teal = \"#55868c\"\n",
    "scarlet = \"#450920\""
   ]
  },
  {
   "cell_type": "code",
   "execution_count": 32,
   "metadata": {},
   "outputs": [],
   "source": [
    "# street widths\n",
    "street_widths = {'footway' : 0.5,\n",
    "                 'steps' : 0.5,\n",
    "                 'pedestrian' : 0.5,\n",
    "                 'path' : 0.5,\n",
    "                 'track' : 0.5,\n",
    "                 'service' : 2,\n",
    "                 'residential' : 2.5,\n",
    "                 'primary' : 3,\n",
    "                 'motorway' : 4}"
   ]
  },
  {
   "cell_type": "markdown",
   "metadata": {},
   "source": [
    "### 3. Create function to get data using OSMnx and create the figure"
   ]
  },
  {
   "cell_type": "code",
   "execution_count": 37,
   "metadata": {},
   "outputs": [],
   "source": [
    "def makemap(place, bcol, ecol, point):\n",
    "    fig, ax = ox.plot_figure_ground(point=point, filename=place, network_type='all', bgcolor = bcol, edge_color = ecol, street_widths=street_widths, dpi=dpi)\n",
    "    Image('{}/{}.{}'.format(img_folder, place, extension), height=size, width=480)"
   ]
  },
  {
   "cell_type": "markdown",
   "metadata": {},
   "source": [
    "### 4. Call the function "
   ]
  },
  {
   "cell_type": "code",
   "execution_count": 36,
   "metadata": {},
   "outputs": [],
   "source": [
    "# calling the function\n",
    "makemap(\"goodenough-2\", vanilla, scarlet, gh)\n",
    "makemap(\"westminster-abbey\", charcoal, tuscan, wa)\n",
    "makemap(\"st-paul\", vanilla, teal, sp)\n",
    "makemap(\"columbia-road-2\", coral, purp, cr)"
   ]
  }
 ],
 "metadata": {
  "kernelspec": {
   "display_name": "Python 3",
   "language": "python",
   "name": "python3"
  },
  "language_info": {
   "codemirror_mode": {
    "name": "ipython",
    "version": 3
   },
   "file_extension": ".py",
   "mimetype": "text/x-python",
   "name": "python",
   "nbconvert_exporter": "python",
   "pygments_lexer": "ipython3",
   "version": "3.7.3"
  }
 },
 "nbformat": 4,
 "nbformat_minor": 2
}
