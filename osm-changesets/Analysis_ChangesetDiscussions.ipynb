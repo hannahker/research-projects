{
 "cells": [
  {
   "cell_type": "markdown",
   "metadata": {},
   "source": [
    "## Understanding online communication between OpenStreetMap contributors:<br>A computational analysis of changeset discussions from the United States\n",
    "By Hannah Ker\n"
   ]
  },
  {
   "cell_type": "markdown",
   "metadata": {},
   "source": [
    "<a id='top'></a>\n",
    "## Table of Contents \n",
    "\n",
    "[1 | Introduction](#intro) <br>\n",
    "[2 | Research Question](#rq) <br>\n",
    "[3 | Collection and Presentation of Data](#data) <br>\n",
    "[4 | Methodology](#methods) <br>\n",
    "[5 | Results](#results) <br>\n",
    "[6 | Discussion](#discussion) <br>\n",
    "[7 | Conclusion](#conclusion) <br>\n",
    "[8 | References](#references) <br>\n",
    "\n",
    "_This notebook takes approximately 3 minutes to run_."
   ]
  },
  {
   "cell_type": "markdown",
   "metadata": {},
   "source": [
    "<a id='intro'></a>\n",
    "***\n",
    "\n",
    "## 1 | Introduction\n",
    "\n",
    "***\n",
    "\n",
    "We analyze communication patterns between OpenStreetMap (OSM) contributors relating to their mapping activities. Since 2014, contributors have had the ability to engage in public discussions directly related to a given OSM changeset. A changeset is a discrete group of edits made by a single contributor within a short period of time (“Changeset,” n.d.). As described in the blog post introducing this feature, changeset discussions are intended to be a place for “welcoming new users”, “leaving positive feedback”, and “asking questions about controversial edits” (“Introducing Changeset Discussions,” 2014). New mappers may also flag their map edits to request feedback from more experienced mappers (Neis, 2017a). While this feature has been present for almost six years, there has been little large-scale, empirical investigation into whether or not this communication tool is being used as intended. \n",
    "\n",
    "Given the importance placed on building community within the OSM project (“Join the community,” n.d.), it is relevant to research existing modes of engagement between contributors. Survey research has found that, particularly among more experienced OSM mappers, community engagement is a key motivator for sustained contribution to the project (Budhathoki and Haythornthwaite, 2013). While OSM has been well-researched with respect to topics such as the quality and applications of its data (eg. Haklay, 2010; Luxen and Vetter, 2011; Rahman et al., 2012), the characteristics of community interactions have received much less attention from researchers. Existing analyses of changeset discussions are limited to descriptive and summary statistics (Neis, 2018, 2017b). There is thus much room for more in-depth research. It is worth noting that OSM contributors may engage with each other in a variety of ways, such as through mailing lists, wikis, and in-person mapping events. To reduce the scope of our analysis, we restrict our focus to communication through changeset discussions. \n",
    "\n",
    "The results of this analysis may also have implications for ongoing efforts to promote inclusion in OSM (as evidenced by the recent appointment of a “Diversity and Inclusion Special Committee”) (“Diversity and Inclusion Special Committee,” n.d.). Research has found that the vast majority of OSM contributors are male (Budhathoki and Haythornthwaite, 2013; Gardner et al., 2019). Research relating to Wikipedia, a similar online crowdsourcing project, has found that many women have stopped contributing due to experiences of conflict with other contributors during online discussions (Collier and Bear, 2012). There is thus a need to identify the prevalence of conflict and negative interactions within OSM changeset discussions.\n",
    "\n",
    "Moreover, past work in the context of Wikipedia validates the use of computational methods to analyze large volumes of text data to better understand communication in online crowdsourcing communities. For example, Wang and Cardie (2016) investigate online disputes on Wikipedia talk pages using a sentence-level sentiment analysis, and Kittur et al. (2007) use SVM to identify incidences of user conflict on edits in Wikipedia.  \n",
    "\n",
    "We hope that this unique analysis can further understandings of the ways that members of the OSM community interact online and build community. As our analysis addresses salient issues in the community such as gender inclusion and newcomer retention, we also hope that this work can contribute to efforts to make OSM a more inclusive and welcoming community. "
   ]
  },
  {
   "cell_type": "markdown",
   "metadata": {},
   "source": [
    "<a id='rq'></a>\n",
    "***\n",
    "\n",
    "## 2 | Research Question\n",
    "\n",
    "***\n",
    "\n",
    "Throughout this work, we seek to answer the following research question: _What is the subject and tone of OSM changeset discussions between contributors in the United States over the past 90 days?_"
   ]
  },
  {
   "cell_type": "markdown",
   "metadata": {},
   "source": [
    "<a id='data'></a>\n",
    "***\n",
    "\n",
    "## 3 | Collection and Presentation of Data \n",
    "\n",
    "***\n",
    "\n",
    "We use web scraping to collect unstructured changeset discussions from the United States over a 90-day period. Note that the following code to complete the web scraping is commented and included here for exemplary purposes. As the scraping takes a significant amount of time, we will load in a previously scraped CSV file for our presentation and analysis. We then reveal the key characteristics of our dataset through basic summary statistics and visualizations.\n",
    "\n",
    "We will begin by loading all the packages required throughout this exercise: "
   ]
  },
  {
   "cell_type": "code",
   "execution_count": 1,
   "metadata": {},
   "outputs": [],
   "source": [
    "# Potential package downloads\n",
    "# conda install -c conda-forge joypy\n",
    "# conda install -c conda-forge gensim\n",
    "# conda install -c conda-forge bs4\n",
    "# conda install -c conda-forge langdetect\n",
    "# conda install -c conda-forge nltk\n",
    "# conda install -c conda-forge pyLDAvis\n",
    "# nltk.download('punkt')\n",
    "# nltk.download('stopwords') # for the stopwords \n",
    "# nltk.download('averaged_perceptron_tagger') # for pos tagging\n",
    "# nltk.download('wordnet') # for lemmatizing"
   ]
  },
  {
   "cell_type": "code",
   "execution_count": 2,
   "metadata": {},
   "outputs": [],
   "source": [
    "# Data collection\n",
    "from bs4 import BeautifulSoup\n",
    "import requests\n",
    "\n",
    "# Text cleaning and exploration\n",
    "import nltk\n",
    "from nltk.stem.wordnet import WordNetLemmatizer\n",
    "from nltk.tokenize import word_tokenize\n",
    "from nltk.corpus import stopwords\n",
    "from langdetect import detect\n",
    "from nltk.corpus import wordnet\n",
    "\n",
    "# Analysis\n",
    "import gensim.corpora as corpora\n",
    "from gensim.models import CoherenceModel\n",
    "import gensim\n",
    "from nltk.sentiment.vader import SentimentIntensityAnalyzer, SentiText\n",
    "\n",
    "# Visualization\n",
    "import pyLDAvis\n",
    "import pyLDAvis.gensim \n",
    "import matplotlib.pyplot as plt\n",
    "import joypy\n",
    "from pprint import pprint\n",
    "plt.style.use('fivethirtyeight')\n",
    "%matplotlib inline\n",
    "\n",
    "# Text printing\n",
    "from IPython.display import Markdown, display\n",
    "\n",
    "# General data processing \n",
    "import pandas as pd\n",
    "from statistics import stdev, mean\n",
    "import string\n",
    "import csv"
   ]
  },
  {
   "cell_type": "markdown",
   "metadata": {},
   "source": [
    "### 3.1 | Data Collection\n",
    "***\n",
    "\n",
    "We use the Latest OSM Changeset Discussions/Comments webpage from Pascal Neis to direct us towards URLs for changesets with comments in the US over the last 90 days (which is the longest historical timeframe) (“Latest OpenStreetMap (OSM) Changeset Discussions/Comments,” n.d.)."
   ]
  },
  {
   "cell_type": "code",
   "execution_count": 3,
   "metadata": {},
   "outputs": [],
   "source": [
    "def getChangesets(url):\n",
    "    '''Gets a list of changesets, in url format'''\n",
    "    \n",
    "    page = requests.get(url) # Load the webpage \n",
    "    soup = BeautifulSoup(page.content, 'html.parser') # Parse the HTML DOM of the page   \n",
    "    changesets = [] # Initialize output list \n",
    "\n",
    "    for link in soup.find_all('a'): # Get all 'a' tags with the 'view changeset' title\n",
    "        if link.get('title') == \"View changeset\":\n",
    "            changesets.append(link.get('href')) # Append the link to the output list \n",
    "        \n",
    "    return(changesets)"
   ]
  },
  {
   "cell_type": "code",
   "execution_count": 4,
   "metadata": {},
   "outputs": [],
   "source": [
    "# Get all the changesets \n",
    "# http://resultmaps.neis-one.org/osm-discussions?c=United%20States&d=90#3/47.40/-117.51\n",
    "\n",
    "# ------------ Code previously run ---------------\n",
    "# changesets = getChangesets('http://resultmaps.neis-one.org/osm-discussions?c=United%20Kingdom&d=90#5/54.145/-3.000')"
   ]
  },
  {
   "cell_type": "markdown",
   "metadata": {},
   "source": [
    "Once we have the list of changeset URLs, we can scrape the comment thread for each changeset. We do this by identifying unique HTML elements in the page that characterize the location of the comments. The data is then stored in an n-dimensional list format. Each discussion thread is made up of a list of individual comments, which is then stored as part of a list of all discussion threads. "
   ]
  },
  {
   "cell_type": "code",
   "execution_count": 5,
   "metadata": {},
   "outputs": [],
   "source": [
    "def getComments(url):\n",
    "    '''Gets all of the comments for a given changeset'''\n",
    "\n",
    "    try: \n",
    "        page = requests.get(url, timeout=10) # Get the html page\n",
    "        soup = BeautifulSoup(page.content, 'html.parser') # Format for parsing\n",
    "\n",
    "        if page.status_code != 200:\n",
    "            return False\n",
    "        \n",
    "        text = soup.find_all('div', class_='changeset-comments') # Get the div with the changeset comments\n",
    "        a = text[0].find_all('li') # Get all of the comments \n",
    "        b = [] # List to store all the comments\n",
    "        for x in a:  # Parse the comments text \n",
    "            y = x.find_all('p') # Get the paragraphs\n",
    "            text = \"\"\n",
    "            for z in y: # Concatenate all the paragraphs in a comment \n",
    "                text+=(\" \" + z.get_text().replace('\\n', ' '))\n",
    "            b.append(text)\n",
    "        return(b)\n",
    "    \n",
    "    except: # Will get here if the get request times out\n",
    "        print('timed out')\n",
    "        return\n",
    "    "
   ]
  },
  {
   "cell_type": "code",
   "execution_count": 6,
   "metadata": {},
   "outputs": [],
   "source": [
    "# Get all the comments - depending on how much data, this takes a bit of time \n",
    "\n",
    "# ------------ Code previously run ---------------\n",
    "# allComments = []\n",
    "\n",
    "# for changeset in changesets: \n",
    "#     allComments.append(getComments(changeset))"
   ]
  },
  {
   "cell_type": "markdown",
   "metadata": {},
   "source": [
    "Once the data has been scraped, we will write it to a CSV file for more durable storage. "
   ]
  },
  {
   "cell_type": "code",
   "execution_count": 7,
   "metadata": {},
   "outputs": [],
   "source": [
    "# Each row in the csv is a comment thread for a changeset. \n",
    "# Multiple comments for the same changeset extend to subsequent columns in the row\n",
    "\n",
    "# ------------ Code previously run ---------------\n",
    "# with open('uk_comments_90.csv', 'w', newline='') as f:\n",
    "#    writer = csv.writer(f)\n",
    "#    for comment in allComments:\n",
    "#        if comment is not None:\n",
    "#            try:\n",
    "#                writer.writerow(comment)\n",
    "#            except: # breaks when comments contain emojis\n",
    "#                print(comment)"
   ]
  },
  {
   "cell_type": "markdown",
   "metadata": {},
   "source": [
    "### 3.2 | Presentation of Data\n",
    "***\n",
    "\n",
    "We first open the CSV file that we created in the previous step and store the data in a new variable."
   ]
  },
  {
   "cell_type": "code",
   "execution_count": 8,
   "metadata": {},
   "outputs": [],
   "source": [
    "# Open the CSV file created in Part 1 and store in nested list format\n",
    "with open('us_comments_90.csv', 'r', newline='') as f:\n",
    "    reader = csv.reader(f, delimiter=',')\n",
    "    allComments = [row for row in reader]"
   ]
  },
  {
   "cell_type": "markdown",
   "metadata": {},
   "source": [
    "We print out a given thread to make sure that the data looks like what we are expecting. We can also use this as an opportunity to manually look at an example of what people are talking about in these comments. As shown below, we can see that contributors are discussing the justification behind a given edit in Alaska. "
   ]
  },
  {
   "cell_type": "code",
   "execution_count": 9,
   "metadata": {},
   "outputs": [
    {
     "data": {
      "text/markdown": [
       "Thread | \n",
       "                :-- |\n",
       " Hi AlaskaDave, what was the argument for deleting https://www.openstreetmap.org/way/8996056/history#map=15/61.0828/-146.3000 ? Related: https://www.openstreetmap.org/note/242131\n",
       " Well, I don't recall. I did drive through that area and made a ton of edits. It's possible I didn't see any track or \"footway\": when I was there. As you know, Tiger tracks are scattered all over Alaska and are sometimes positioned in terrain where its possible to see that it isn't there now and simply never was there. The North Slope, for example, is full of such \"tracks\". I try to align them using existing imagery when they are visible but I sometimes just delete them.\n",
       " Sounds fair, stay safe!"
      ],
      "text/plain": [
       "<IPython.core.display.Markdown object>"
      ]
     },
     "metadata": {},
     "output_type": "display_data"
    }
   ],
   "source": [
    "def printThread(thread):\n",
    "    '''Prints all the comments in a thread in a markdown table format for readability.'''\n",
    "    \n",
    "    toprint = '''Thread | \n",
    "                :-- |''' # Markdown formatting \n",
    "    \n",
    "    for i in range(0,len(thread)): # Loop through all comments in the thread \n",
    "        toprint=toprint+('\\n' + thread[i])\n",
    "        \n",
    "    display(Markdown(toprint))\n",
    "\n",
    "printThread(allComments[78])"
   ]
  },
  {
   "cell_type": "markdown",
   "metadata": {},
   "source": [
    "The table below provides a summary of some basic characteristics of our dataset. We have collected a total of 2020 discussion threads, with a total of 2974 comments. "
   ]
  },
  {
   "cell_type": "code",
   "execution_count": 10,
   "metadata": {},
   "outputs": [
    {
     "data": {
      "text/html": [
       "<div>\n",
       "<style scoped>\n",
       "    .dataframe tbody tr th:only-of-type {\n",
       "        vertical-align: middle;\n",
       "    }\n",
       "\n",
       "    .dataframe tbody tr th {\n",
       "        vertical-align: top;\n",
       "    }\n",
       "\n",
       "    .dataframe thead th {\n",
       "        text-align: right;\n",
       "    }\n",
       "</style>\n",
       "<table border=\"1\" class=\"dataframe\">\n",
       "  <thead>\n",
       "    <tr style=\"text-align: right;\">\n",
       "      <th></th>\n",
       "      <th>Variable</th>\n",
       "      <th>Total number</th>\n",
       "      <th>Average length</th>\n",
       "      <th>Standard deviation</th>\n",
       "    </tr>\n",
       "  </thead>\n",
       "  <tbody>\n",
       "    <tr>\n",
       "      <th>0</th>\n",
       "      <td>Threads</td>\n",
       "      <td>2020</td>\n",
       "      <td>1.47 comments</td>\n",
       "      <td>1.16</td>\n",
       "    </tr>\n",
       "    <tr>\n",
       "      <th>1</th>\n",
       "      <td>Comments</td>\n",
       "      <td>2974</td>\n",
       "      <td>45.23 words</td>\n",
       "      <td>54.97</td>\n",
       "    </tr>\n",
       "  </tbody>\n",
       "</table>\n",
       "</div>"
      ],
      "text/plain": [
       "   Variable  Total number Average length Standard deviation\n",
       "0   Threads          2020  1.47 comments               1.16\n",
       "1  Comments          2974    45.23 words              54.97"
      ]
     },
     "execution_count": 10,
     "metadata": {},
     "output_type": "execute_result"
    }
   ],
   "source": [
    "# Across the whole dataset, what are the comment and thread lengths?\n",
    "tlengths, clengths, counter = [], [], 0\n",
    "\n",
    "# Loop through the data and count for each variable\n",
    "for thread in allComments:\n",
    "    counter+=len(thread) # Total number of comments\n",
    "    tlengths.append(len(thread))# Thread length\n",
    "    for comment in thread:\n",
    "        clengths.append(len(word_tokenize(comment))) # Words in comments\n",
    "\n",
    "# Add the totals, averages, and standard deviations to a dataframe for clear output in a table\n",
    "summary = [('Threads', len(allComments), str(round(mean(tlengths),2)) + ' comments', str(round(stdev(tlengths),2))), \n",
    "        ('Comments', counter, str(round(mean(clengths),2)) + ' words', str(round(stdev(clengths),2)))]\n",
    "\n",
    "# Create and show the dataframe\n",
    "summary = pd.DataFrame(summary, columns =['Variable', 'Total number', 'Average length', 'Standard deviation']) \n",
    "summary # Show the dataframe "
   ]
  },
  {
   "cell_type": "markdown",
   "metadata": {},
   "source": [
    "As shown by the following two figures, we can see that the length of each comment and the number of comments in each thread have highly skewed distributions. Most comments contain under 100 words. The vast majority of threads only contain one comment, and very few threads have more than 6 comments. "
   ]
  },
  {
   "cell_type": "code",
   "execution_count": 11,
   "metadata": {},
   "outputs": [
    {
     "data": {
      "image/png": "[encoded data removed]",
      "text/plain": [
       "<Figure size 1296x360 with 2 Axes>"
      ]
     },
     "metadata": {
      "needs_background": "light"
     },
     "output_type": "display_data"
    }
   ],
   "source": [
    "# Histograms for distribution of words/comment and comments/thread\n",
    "plt.figure(figsize=(18, 5)) # sizing for the figures\n",
    "\n",
    "# First figure\n",
    "plt.subplot(121)\n",
    "plt.hist(clengths, density=False, bins=40, color='m');\n",
    "plt.axvline(mean(clengths), color='k', linestyle='dashed', linewidth=2)\n",
    "plt.ylabel('Frequency');\n",
    "plt.xlabel('Number of words');\n",
    "plt.title('Number of words per comment');\n",
    "\n",
    "# Second figure\n",
    "plt.subplot(122)\n",
    "plt.hist(tlengths, density=False, bins=10, color='lightblue');\n",
    "plt.axvline(mean(tlengths), color='k', linestyle='dashed', linewidth=2)\n",
    "plt.ylabel('Frequency');\n",
    "plt.xlabel('Number of comments');\n",
    "plt.title('Number of comments per thread');"
   ]
  },
  {
   "cell_type": "markdown",
   "metadata": {},
   "source": [
    "[Return to top](#top) <br>"
   ]
  },
  {
   "cell_type": "markdown",
   "metadata": {},
   "source": [
    "<a id='methods'></a>\n",
    "***\n",
    "\n",
    "## 4 | Methodology\n",
    "\n",
    "***\n",
    "\n",
    "Our methodology consists of three components. 1) We clean our data to transform it into a format appropriate for topic modelling. 2) We apply Latent Dirichlet Allocation (LDA) to detect commonly occurring topics in these changeset discussions. 3) We then use a rule-based sentiment analysis model to understand the emotional tone of each discussion in our dataset.\n",
    "\n",
    "Note that due to the presence of randomness in the models used for some data cleaning steps (eg. bigrams and lemmatization), slightly different results may be obtained with different runs. To ensure reproducibility of our exact results, we save the cleaned datasets from one run, and use this data to generate our LDA model and perform our sentiment analysis.\n",
    "\n",
    "### 4.1 | Data cleaning\n",
    "***\n",
    "\n",
    "The unstructured and messy nature of this text data requires significant cleaning before it is suitable for our topic modelling exercise. The aim of this data cleaning is to remove noise, break text down into uniform units, and normalize words by reducing them to a root form. These techniques all contribute to the creation of highly structured representations of the raw text data that we initially collected (Feldman and Sanger, 2006). The Natural Language Toolkit (NLTK) is used throughout the data cleaning process to aid with technical implementation (Loper and Bird, 2002). \n",
    "\n",
    "We conduct data cleaning operations in two phases. In the first phase, we 1) filter out non-English text, 2) convert all characters to lowercase, 3) separate all text into individual words through tokenization, 4) remove all punctuation and words with non alphabetic characters, 5) remove duplicate discussion threads, and 6) remove all stop-words. Stop-words are commonly used words, such as ‘a’ and ‘the’ that have little meaning on their own. We use the English stop-words list provided by NLTK, with a couple additions that are relevant to our context. An algorithm to remove duplicates in a list has been adapted from Stack Overflow (“How do you remove duplicates from a list whilst preserving order?,” n.d.)."
   ]
  },
  {
   "cell_type": "code",
   "execution_count": 12,
   "metadata": {},
   "outputs": [],
   "source": [
    "# Get list of English stop words\n",
    "stop_words=set(stopwords.words(\"english\"))\n",
    "stop_words.add('https') # Add these because they come up in the text\n",
    "stop_words.add('http')"
   ]
  },
  {
   "cell_type": "code",
   "execution_count": 13,
   "metadata": {},
   "outputs": [],
   "source": [
    "# Functions for first pass of data cleaning\n",
    "def toLowercase(comment):\n",
    "    '''Converts all characters in a string to lowercase.'''\n",
    "    return(comment.lower())\n",
    "\n",
    "def isEnglish(comment):\n",
    "    '''Returns boolean indicating if a string is English or not.'''\n",
    "    try:\n",
    "        if detect(comment) != 'en':\n",
    "            return(False)\n",
    "        return(True)\n",
    "    except: # Hits error when irregular characters, like emojis, are encountered\n",
    "        return(False)\n",
    "\n",
    "def tokenize(comment):\n",
    "    '''Converts a text string into a list of individual words.'''\n",
    "    return(word_tokenize(comment))\n",
    "\n",
    "def remove(tokenized):\n",
    "    '''Removes punctuation or words with not alphabetic characters from tokenized text.'''\n",
    "    return([word for word in tokenized if word not in stop_words and word.isalpha()])"
   ]
  },
  {
   "cell_type": "code",
   "execution_count": 14,
   "metadata": {},
   "outputs": [],
   "source": [
    "# Remove duplicate threads while preserving the ordering \n",
    "# Adapted from: https://stackoverflow.com/questions/480214/how-do-you-remove-duplicates-from-a-list-whilst-preserving-order\n",
    "def unique_threads(seq):\n",
    "    seen = set()\n",
    "    seen_add = seen.add\n",
    "    return [x for x in seq if not (x in seen or seen_add(x))]"
   ]
  },
  {
   "cell_type": "code",
   "execution_count": 15,
   "metadata": {},
   "outputs": [],
   "source": [
    "# Join all comments in a thread together\n",
    "def joinThread(thread):\n",
    "    '''Returns a single string with all comments in the thread combined'''\n",
    "    joined = ''    \n",
    "    for comment in thread:\n",
    "        joined += comment   \n",
    "    return(joined)\n",
    "\n",
    "joined = [joinThread(thread) for thread in allComments] # Merge all threads into one string, one list item for each thread"
   ]
  },
  {
   "cell_type": "code",
   "execution_count": 16,
   "metadata": {},
   "outputs": [
    {
     "name": "stdout",
     "output_type": "stream",
     "text": [
      "All threads: 2020\n",
      "Unique threads: 1542\n"
     ]
    }
   ],
   "source": [
    "# Remove duplicate threads from the corpus\n",
    "no_dups = unique_threads(joined)\n",
    "print('All threads: ' + str(len(joined)))\n",
    "print('Unique threads: ' + str(len(no_dups)))"
   ]
  },
  {
   "cell_type": "code",
   "execution_count": 17,
   "metadata": {},
   "outputs": [
    {
     "name": "stdout",
     "output_type": "stream",
     "text": [
      "After 1st cleaning: 1518 threads\n"
     ]
    }
   ],
   "source": [
    "# Do first pass of cleaning\n",
    "allEnglish = [thread for thread in no_dups if isEnglish(thread)] # Remove non-English text \n",
    "cleaned_1 = [remove(tokenize(toLowercase(thread))) for thread in allEnglish] # Perform other cleaning \n",
    "\n",
    "print('After 1st cleaning: ' + str(len(cleaned_1)) + ' threads')"
   ]
  },
  {
   "cell_type": "markdown",
   "metadata": {},
   "source": [
    "In the second phase of our data cleaning, we identify common two and three-word phrases (bigrams and trigrams, respectively), and lemmatize each word. Lemmatization aims to normalize word derivations and remove the inflections to reduce all words to their base form (Manning et al., 2008). For example, the words “am”, “are”, and “is” can all be reduced to the base “be” (Manning et al., 2008). As lemmatization performs a morphological analysis of words, each word must first be tagged with its associated part of speech (POS) (eg. noun or verb) (Prabhakaran, 2018a). While stemming, a competing approach to word normalization, may in some cases give more favourable results (Manning et al., 2008), we found that the outputs of word stemming were less interpretable than with lemmatization.\n",
    "\n",
    "We use NLTK’s WordNetLemmatizer and POS-tagger to perform these functions (following Prabhakaran, 2018a). We use Gensim’s Phraser model, trained on our entire corpus, to detect bigrams and trigrams in our text. As indicated by the links provided in the code, technical implementation is further aided by Prabhakaran (2018c, 2018b). "
   ]
  },
  {
   "cell_type": "code",
   "execution_count": 18,
   "metadata": {},
   "outputs": [],
   "source": [
    "# Build the bigram model\n",
    "# Adapted from: https://www.machinelearningplus.com/nlp/topic-modeling-gensim-python/\n",
    "bigram = gensim.models.Phrases(cleaned_1, min_count=10, threshold=100)\n",
    "bigram_mod = gensim.models.phrases.Phraser(bigram)\n",
    "trigram = gensim.models.Phrases(cleaned_1, min_count=10, threshold=100)  \n",
    "trigram_mod = gensim.models.phrases.Phraser(trigram)"
   ]
  },
  {
   "cell_type": "code",
   "execution_count": 19,
   "metadata": {},
   "outputs": [],
   "source": [
    "# Functions for finding bigrams and lemmatizing\n",
    "# Adapted from https://www.machinelearningplus.com/nlp/topic-modeling-gensim-python/\n",
    "# Adapted from https://www.machinelearningplus.com/nlp/lemmatization-examples-python/\n",
    "def findBigrams(tokenized):\n",
    "    '''Identifies bigrams in tokenized text.'''\n",
    "    return bigram_mod[tokenized]\n",
    "\n",
    "def findTrigrams(tokenized):\n",
    "    '''Identifies trigrams in tokenized text.'''\n",
    "    return trigram_mod[tokenized]\n",
    "\n",
    "def wordnetPOS(word):\n",
    "    '''Does POS tagging for a word and converts to proper format for .lemmatize()'''\n",
    "    tag = nltk.pos_tag([word])[0][1][0].upper()\n",
    "    tag_dict = {\"J\": wordnet.ADJ,\n",
    "                \"N\": wordnet.NOUN,\n",
    "                \"V\": wordnet.VERB,\n",
    "                \"R\": wordnet.ADV}\n",
    "    return tag_dict.get(tag, wordnet.NOUN)\n",
    "\n",
    "def toLemmatize(tokenized):\n",
    "    '''Converts text tokens into their lemma.'''\n",
    "    return([WordNetLemmatizer().lemmatize(w, wordnetPOS(w)) for w in tokenized])"
   ]
  },
  {
   "cell_type": "code",
   "execution_count": 20,
   "metadata": {},
   "outputs": [
    {
     "name": "stdout",
     "output_type": "stream",
     "text": [
      "After 2nd cleaning: 1518 threads\n"
     ]
    }
   ],
   "source": [
    "# Do second pass of cleaning the data\n",
    "cleaned_2 = [toLemmatize(findTrigrams(findBigrams(words))) for words in cleaned_1]\n",
    "\n",
    "print('After 2nd cleaning: ' + str(len(cleaned_2))+ ' threads')"
   ]
  },
  {
   "cell_type": "markdown",
   "metadata": {},
   "source": [
    "Below, we see some examples of the bigrams and trigrams that were found in our text. "
   ]
  },
  {
   "cell_type": "code",
   "execution_count": 21,
   "metadata": {},
   "outputs": [
    {
     "name": "stdout",
     "output_type": "stream",
     "text": [
      "Phrases include: square_corners, seo_spam, press_q\n"
     ]
    }
   ],
   "source": [
    "# Check out the bigrams and trigrams   \n",
    "phrases = [word for thread in cleaned_2 for word in thread if '_' in word]\n",
    "\n",
    "print('Phrases include: ' + phrases[21] + ', ' + phrases[12] + ', ' + phrases[67])"
   ]
  },
  {
   "cell_type": "markdown",
   "metadata": {},
   "source": [
    "The following function will allow us to more closely inspect our cleaning process, by investigating how a given comment is transformed. The example below demonstrates how this function structures each comment into a list of words, and removes noisy information such as web links and punctuation marks. We can see how words such as 'if' and 'the' have been removed from the text. The word 'corners' had been normalized to 'corner', and all resulting tokens contain only alphabetical characters. The phrase 'q_key' has been picked up as a bigram, indicating that many comments contain this two-word phrase. While the resulting data is less readable to the human eye, its standardized format will be more appropriate for a computational analysis. "
   ]
  },
  {
   "cell_type": "code",
   "execution_count": 22,
   "metadata": {},
   "outputs": [
    {
     "data": {
      "text/markdown": [
       "Preprocessing Step | Output |\n",
       "                :-- |:-- |\n",
       " ORIGINAL COMMENT |  Just a tip...those buildings will look better if the corners are squared up. Just select and press the Q key. Thanks.|\n",
       " LOWERCASE |  just a tip...those buildings will look better if the corners are squared up. just select and press the q key. thanks.|\n",
       " TOKENIZED | ['just', 'a', 'tip', '...', 'those', 'buildings', 'will', 'look', 'better', 'if', 'the', 'corners', 'are', 'squared', 'up', '.', 'just', 'select', 'and', 'press', 'the', 'q', 'key', '.', 'thanks', '.']|\n",
       " NO STOP WORDS OR PUNCT | ['tip', 'buildings', 'look', 'better', 'corners', 'squared', 'select', 'press', 'q', 'key', 'thanks']|\n",
       " WITH BI/TRIGRAMS | ['tip', 'buildings', 'look', 'better', 'corners', 'squared', 'select', 'press_q', 'key', 'thanks']\n",
       " LEMMATIZED | ['tip', 'building', 'look', 'well', 'corner', 'square', 'select', 'press_q', 'key', 'thanks']"
      ],
      "text/plain": [
       "<IPython.core.display.Markdown object>"
      ]
     },
     "metadata": {},
     "output_type": "display_data"
    }
   ],
   "source": [
    "# Visual verification of cleaning process\n",
    "def checkClean(comment):\n",
    "    '''Print out all cleaning steps for one comment, to check that things are working as expected.'''\n",
    "    toprint = '''Preprocessing Step | Output |\n",
    "                :-- |:-- |'''\n",
    "    toprint +=(\"\\n ORIGINAL COMMENT | \" + comment + '|')\n",
    "    toprint +=(\"\\n LOWERCASE | \" + toLowercase(comment) + '|')\n",
    "    toprint +=(\"\\n TOKENIZED | \" + str(tokenize(toLowercase(comment))) + '|')\n",
    "    toprint +=(\"\\n NO STOP WORDS OR PUNCT | \" + str(remove(tokenize(toLowercase(comment)))) + '|')\n",
    "    toprint +=(\"\\n WITH BI/TRIGRAMS | \" + str(findBigrams(remove(tokenize(toLowercase(comment))))))\n",
    "    toprint +=(\"\\n LEMMATIZED | \" + str(toLemmatize(findBigrams(remove(tokenize(toLowercase(comment)))))))      \n",
    "    display(Markdown(toprint))\n",
    "\n",
    "checkClean(joined[45])"
   ]
  },
  {
   "cell_type": "markdown",
   "metadata": {},
   "source": [
    "We save two versions of our cleaned dataset to CSV files to be subsequently loaded in our analysis. "
   ]
  },
  {
   "cell_type": "code",
   "execution_count": 23,
   "metadata": {},
   "outputs": [],
   "source": [
    "# Save the fully cleaned and tokenized text for topic modelling \n",
    "# ------------ Code previously run ---------------\n",
    "# with open('cleaned_2_d.csv', 'w', newline='') as f:\n",
    "#     writer = csv.writer(f)\n",
    "#    for comment in cleaned_2:\n",
    "#        if comment is not None:\n",
    "#            try:\n",
    "#                writer.writerow(comment)\n",
    "#            except:\n",
    "#                print(comment)\n",
    "                \n",
    "# Save the English, non duplicate threads for sentiment analysis \n",
    "#df = pd.DataFrame(data={\"threads\": allEnglish})\n",
    "#df.to_csv(\"allEnglish.csv\", sep=',',index=False, header=False)"
   ]
  },
  {
   "cell_type": "markdown",
   "metadata": {},
   "source": [
    "### 4.2 | Topic modelling\n",
    "***\n",
    "\n",
    "We use Latent Dirichlet Allocation (LDA) (Blei et al., 2003) to identify the primary topics in this text data, which contributes to our understanding of the commonly occurring subjects in changeset discussions. LDA has been used as an unsupervised approach to analyze the content of large volumes of text data, such as historical journalistic texts (Jacobi et al., 2016), or academic studies (Mo et al., 2015). LDA is a probabilistic model through which each document in a dataset is assumed to be made up of a number of latent topics (Blei et al., 2003). Each of these topics is represented by a distribution of words (Blei et al., 2003). However, Jacobi et al. (2016) point out that the topics produced by LDA, as determined by word co-occurrence, may reflect a variety of entities, from writing styles to key events to general themes. Thus, it is possible that not all topics produced by the model will be useful for the analysis at hand.  \n",
    "\n",
    "Moreover, past work has pointed to the challenges of applying LDA to short text documents, such as Tweets, given that documents are unlikely to contain multiple topics (Naveed et al., 2011). Following the positive findings from Hong and Davison (2010), we address this problem by aggregating all comments in a single thread into one document.  We acknowledge that many discussion threads in our dataset will still be quite short, given the fact that a large number only contain one comment.  \n",
    "\n",
    "We use Gensim’s LDA model (Řehůřek and Sojka, 2011) in our analysis and begin by creating the two necessary model inputs: 1) a mapping of every unique word in our dataset to a numerical ID, and 2) a document-term matrix, containing the IDs and number of occurrences for each word in each document. In our case, a ‘document’ corresponds to a discussion thread. \n",
    "\n",
    "We also set the range of values for key model hyperparameters. The primary hyperparameter is the number of topics (K) for the model to identify. Given the relatively small size of our corpus and the desire for distinct and interpretable topics, we identify [5,15] as the range of potential K values. The second hyperparameter, alpha,  reflects the assumed number of topics in each document (Jacobi et al., 2016). We set the alpha hyperparameter using Gensim’s ‘auto’ default to automatically assign this value based on our input dataset. \n",
    "\n",
    "As indicated by the links provided in the code, the technical implementation of LDA is aided by Prabhakaran (2018b)."
   ]
  },
  {
   "cell_type": "code",
   "execution_count": 24,
   "metadata": {},
   "outputs": [],
   "source": [
    "# Load in the saved cleaned data \n",
    "with open('cleaned_2.csv', 'r', newline='') as f:\n",
    "    reader = csv.reader(f, delimiter=',')\n",
    "    cleaned_2_ = [row for row in reader]"
   ]
  },
  {
   "cell_type": "code",
   "execution_count": 25,
   "metadata": {
    "scrolled": true
   },
   "outputs": [
    {
     "name": "stdout",
     "output_type": "stream",
     "text": [
      "Total number of documents: 1520\n",
      "Total number of unique words: 4389\n"
     ]
    }
   ],
   "source": [
    "# Create required inputs for Gensim topic model\n",
    "# Adapted from: https://www.machinelearningplus.com/nlp/topic-modeling-gensim-python\n",
    "\n",
    "id2word = corpora.Dictionary(cleaned_2_) # Mapping between unique words and IDs\n",
    "corpus = [id2word.doc2bow(words) for words in cleaned_2_] # Document-term matrix\n",
    "topicNums = range(5,15,1) # Potential number of topics to check\n",
    "\n",
    "print(\"Total number of documents: \" + str(len(corpus)))\n",
    "print(\"Total number of unique words: \" + str(len(id2word)))"
   ]
  },
  {
   "cell_type": "markdown",
   "metadata": {},
   "source": [
    "We now create LDA models for our range of K values. We compare model performance using the topic coherence metric, implemented using Gensim and following the approach in Röder et al. (2015). We select topic coherence as our evaluation metric as work has found that optimizing for the common alternative, perplexity, can result in topics that are less interpretable (p. 2, Chang et al., 2009)."
   ]
  },
  {
   "cell_type": "code",
   "execution_count": 26,
   "metadata": {},
   "outputs": [],
   "source": [
    "# Build LDA model - test different topic numbers and compare by model coherence \n",
    "# Adapted from: https://www.machinelearningplus.com/nlp/topic-modeling-gensim-python\n",
    "def testLDA(topics):\n",
    "    scores = []\n",
    "    for num in topics:\n",
    "        # Create the topic model\n",
    "        lda_model = gensim.models.ldamodel.LdaModel(corpus=corpus,\n",
    "                                            id2word=id2word,\n",
    "                                            iterations=300,\n",
    "                                            num_topics=num, \n",
    "                                            random_state=100,\n",
    "                                            update_every=1,\n",
    "                                            chunksize=100,\n",
    "                                            passes=10,\n",
    "                                            alpha='auto',\n",
    "                                            per_word_topics=True)\n",
    "        # Calculate model coherence\n",
    "        coherence_model_lda = CoherenceModel(model=lda_model, texts=cleaned_2, dictionary=id2word, coherence='c_v')\n",
    "        coherence_lda = coherence_model_lda.get_coherence()\n",
    "        scores.append(coherence_lda)\n",
    "        \n",
    "    return scores\n",
    "\n",
    "coh = testLDA(topicNums)"
   ]
  },
  {
   "cell_type": "code",
   "execution_count": 27,
   "metadata": {},
   "outputs": [
    {
     "data": {
      "image/png": "[encoded data removed]",
      "text/plain": [
       "<Figure size 432x288 with 1 Axes>"
      ]
     },
     "metadata": {
      "needs_background": "light"
     },
     "output_type": "display_data"
    }
   ],
   "source": [
    "# Print the results \n",
    "fig, ax = plt.subplots()\n",
    "ax.plot(topicNums, coh)\n",
    "\n",
    "ax.set(xlabel='K', ylabel='Coherence score',\n",
    "       title='Selecting the optimal number of LDA topics (K)')\n",
    "plt.show()"
   ]
  },
  {
   "cell_type": "markdown",
   "metadata": {},
   "source": [
    "The figure above indicates that an LDA model with 11 topics (K=11) is most optimal. We create our final model with this hyperparameter. "
   ]
  },
  {
   "cell_type": "code",
   "execution_count": 28,
   "metadata": {},
   "outputs": [],
   "source": [
    "# Create the topic model with optimal K value \n",
    "lda_model = gensim.models.ldamodel.LdaModel(corpus=corpus,\n",
    "                                   id2word=id2word,\n",
    "                                   num_topics=11,\n",
    "                                    iterations=300,\n",
    "                                   random_state=100,\n",
    "                                   update_every=1,\n",
    "                                   chunksize=100,\n",
    "                                   passes=10,\n",
    "                                   alpha='auto',\n",
    "                                   per_word_topics=True)"
   ]
  },
  {
   "cell_type": "markdown",
   "metadata": {},
   "source": [
    "### 4.3 | Sentiment analysis\n",
    "***\n",
    "\n",
    "We conduct a sentiment analysis of these changeset discussions to better understand the tone of communication between OSM contributors. We employ an unsupervised, rule-based method, the Valence Aware Dictionary for sEntiment Reasoning (VADER), that has been designed to detect sentiment in social media text (Hutto and Gilbert, 2014). This model is thus well-suited to our data, which is also often short and informal. VADER provides fine-grained sentiment scores for input text that range on a continuous scale from -1 (highly negative) to +1 (highly positive). In calculating these scores, VADER uses rules that account for the following scenarios: 1) punctuation and capitalization increasing magnitude of intensity, 2) impact of modifiers before adjectives, such as “extremely good” vs “moderately good”, 3) the impact of a contrastive conjunction, such as, “the movie was good, but…”, and 4) negation, such as, “the movie was not good” (Hutto and Gilbert, 2014). When applied to the analysis of Tweets, Amazon reviews, movie reviews, and NYTimes editorials, VADER has been found to perform competitively against state-of-the-art machine learning models such as SVM and Naïve Bayes (Hutto and Gilbert, 2014). VADER has thus been proven to generalize well across contexts (Hutto and Gilbert, 2014). The clarity of this model’s decision making and speed of analysis also provide advantages to machine learning models. \n",
    "\n",
    "As VADER has been designed for use with unstructured social media data, we do not apply the same rigorous cleaning processes that were performed for the topic modelling. Rather, we simply use a version of our dataset that has had duplicates and non-English text removed. "
   ]
  },
  {
   "cell_type": "code",
   "execution_count": 29,
   "metadata": {},
   "outputs": [],
   "source": [
    "# Read in saved data\n",
    "allEnglish_ = pd.read_csv('allEnglish.csv', header=None).values.tolist()"
   ]
  },
  {
   "cell_type": "code",
   "execution_count": 30,
   "metadata": {},
   "outputs": [],
   "source": [
    "# Function to calculate the aggregate sentiment score for each comment thread\n",
    "def calcSentiment(comment):\n",
    "    '''Calculate the polarity score for a comment. Returns comment and associated score.'''\n",
    "    return([comment, SentimentIntensityAnalyzer().polarity_scores(comment)['compound']])"
   ]
  },
  {
   "cell_type": "code",
   "execution_count": 31,
   "metadata": {},
   "outputs": [],
   "source": [
    "# Apply the function above and generate lists holding comment + associated score, and just the scores\n",
    "sentiments, scores = [], []\n",
    "\n",
    "for thread in allEnglish_:\n",
    "    sentiments.append(calcSentiment(thread[0]))\n",
    "    scores.append(calcSentiment(thread[0])[1])"
   ]
  },
  {
   "cell_type": "markdown",
   "metadata": {},
   "source": [
    "[Return to top](#top) <br>"
   ]
  },
  {
   "cell_type": "markdown",
   "metadata": {},
   "source": [
    "<a id='results'></a>\n",
    "***\n",
    "\n",
    "## Part 5 | Results\n",
    "\n",
    "***\n",
    "\n",
    "The following section provides a review of the primary results from our topic modelling and sentiment analysis of OSM changeset discussions. \n",
    "\n",
    "We use the pyLDAvis library to visualize the results of our topic modelling (Sievert and Shirley, 2014). As described by Sievert and Shirley (2014), the left panel of this visualization projects all topics onto a two-dimensional space to provide a global view of all topics and their distances to each other. The size of each topic circle corresponds to the prevalence of each topic in the entire corpus (ie. our dataset of changeset discussions). When the user hovers over a topic circle, the bar chart on the right panel of the visualization indicates the most frequently occurring terms within that topic. These terms are ranked according to saliency, as defined in Chuang et al. (2012).  \n",
    "\n",
    "From this visualization we can see that the overlapping topics 7 and 4 are most prevalent in our dataset, containing 25.6% and 36.4% of all words, respectively. We also see a cluster of six comparatively small topics in the bottom right corner of the panel.  "
   ]
  },
  {
   "cell_type": "code",
   "execution_count": 32,
   "metadata": {},
   "outputs": [
    {
     "data": {
      "text/html": [
       "\n",
       "<link rel=\"stylesheet\" type=\"text/css\" href=\"https://cdn.rawgit.com/bmabey/pyLDAvis/files/ldavis.v1.0.0.css\">\n",
       "\n",
       "\n",
       "<div id=\"ldavis_el763618848166664403331133003\"></div>\n",
       "<script type=\"text/javascript\">\n",
       "\n",
       "var ldavis_el763618848166664403331133003_data = {\"mdsDat\": {\"x\": [0.11874962714842706, -0.05198002210217339, 0.13151154195381337, -0.27991313910617605, -0.092829857237469, 0.1255284681690979, -0.30564912648443976, 0.12127061845499647, 0.037562669610898304, 0.07833112962616574, 0.11741808996685996], \"y\": [0.014182501319330972, -0.14993970447417057, -0.061667133978616305, -0.08528858259680361, 0.3330613416785072, -0.05548055603306112, -0.04940976303885581, -0.01508276191957315, 0.14674876278733237, -0.07448698224478424, -0.002637121499305867], \"topics\": [1, 2, 3, 4, 5, 6, 7, 8, 9, 10, 11], \"cluster\": [1, 1, 1, 1, 1, 1, 1, 1, 1, 1, 1], \"Freq\": [2.219461441040039, 6.763063430786133, 3.567082166671753, 34.64986038208008, 10.469931602478027, 3.3529069423675537, 25.59185028076172, 1.667040228843689, 5.676897048950195, 4.509634971618652, 1.5322784185409546]}, \"tinfo\": {\"Term\": [\"osm\", \"please\", \"building\", \"tag\", \"welcome\", \"use\", \"road\", \"one\", \"name\", \"imagery\", \"changeset\", \"address\", \"hello\", \"osmcha\", \"information\", \"publish\", \"edit\", \"map\", \"comment\", \"wrong\", \"thanks\", \"move\", \"remove\", \"hi\", \"left\", \"way\", \"edits\", \"data\", \"house\", \"lot\", \"value\", \"link\", \"maproulette\", \"additional\", \"addr\", \"short\", \"draw\", \"sidewalk\", \"bridge\", \"day\", \"latter\", \"every\", \"addr_housenumber\", \"challenge\", \"notice_minimum\", \"teach\", \"brand\", \"completely\", \"backward\", \"careful\", \"su\", \"important\", \"footways\", \"spam\", \"footpath\", \"continue\", \"discussion\", \"hundred\", \"sunday\", \"forgot\", \"begin\", \"key\", \"welcome\", \"description\", \"stop\", \"mark\", \"careful_editing\", \"problems_corresponding\", \"node_meters\", \"close\", \"property\", \"original_position\", \"head\", \"real\", \"task\", \"database\", \"correspond\", \"available\", \"east\", \"transit\", \"described\", \"exists\", \"definition\", \"train\", \"difference\", \"high\", \"last\", \"locate\", \"sort\", \"entry\", \"default\", \"seo\", \"osm\", \"place\", \"please\", \"name\", \"notice\", \"help\", \"street\", \"check\", \"move\", \"button\", \"lane\", \"aerial\", \"bing\", \"without\", \"old\", \"typo\", \"ramp\", \"localknowledge\", \"alignment\", \"ref\", \"month\", \"shall\", \"layer\", \"naip\", \"physical\", \"usgs\", \"topo\", \"accurate\", \"clayton\", \"focus\", \"changelog\", \"underwent\", \"exit\", \"esri\", \"match\", \"unfortunately\", \"intersection\", \"onramp\", \"imagery\", \"trace\", \"recent\", \"tag\", \"node\", \"would\", \"different\", \"relation\", \"fix\", \"right\", \"get\", \"know\", \"two\", \"thing\", \"good\", \"think\", \"business\", \"highway\", \"note\", \"take\", \"route\", \"try\", \"best\", \"city\", \"come\", \"school\", \"since\", \"park\", \"outline\", \"say\", \"keep\", \"still\", \"mapped\", \"also\", \"see\", \"like\", \"well\", \"area\", \"way\", \"add\", \"mapping\", \"street\", \"name\", \"change\", \"back\", \"go\", \"make\", \"look\", \"road\", \"information\", \"remove\", \"access\", \"issue\", \"private\", \"service\", \"happy\", \"appreciate\", \"learn\", \"driveway\", \"whole\", \"must\", \"website\", \"provide\", \"healthcare\", \"let_know\", \"restore\", \"mostly\", \"community\", \"census\", \"traffic\", \"side\", \"residential\", \"duplicate\", \"verify\", \"standard\", \"entrance\", \"looking_forward\", \"problem\", \"one\", \"restriction\", \"regard\", \"even\", \"reason\", \"hi\", \"notice\", \"help\", \"add\", \"way\", \"info\", \"turn\", \"example\", \"curious\", \"north\", \"satellite\", \"visible\", \"never\", \"ca\", \"correction\", \"quick\", \"cross\", \"adjust\", \"simply\", \"found\", \"nice\", \"st\", \"mapbox\", \"track\", \"full\", \"feedback\", \"tiger\", \"gps\", \"allison\", \"anyone\", \"law\", \"compare\", \"latest_private\", \"footway\", \"related\", \"imagery\", \"offset\", \"may\", \"exist\", \"changeset\", \"osmcha\", \"publish\", \"edit\", \"map\", \"edits\", \"revert\", \"source\", \"object\", \"point\", \"something\", \"station\", \"u\", \"mistake\", \"editor\", \"review\", \"error\", \"set\", \"follow\", \"level\", \"base\", \"import\", \"around\", \"however\", \"knowledge\", \"list\", \"apology\", \"ground\", \"county\", \"trail\", \"delete\", \"show\", \"thank\", \"use\", \"data\", \"correct\", \"time\", \"thanks\", \"exist\", \"new\", \"please\", \"hi\", \"make\", \"id\", \"look\", \"change\", \"work\", \"add\", \"comment\", \"tell\", \"changesets\", \"refresh\", \"exactly\", \"absolutely\", \"home\", \"ignore\", \"sadly\", \"hamlet\", \"reverted_fully\", \"recommend\", \"railway\", \"restrict\", \"particularly\", \"township\", \"railroad\", \"crossing\", \"deal\", \"j\", \"unaware\", \"vandalism\", \"disconnect\", \"determine\", \"buren\", \"unofficial\", \"beginner\", \"bother\", \"straight\", \"continued\", \"happens\", \"report\", \"building\", \"hello\", \"wrong\", \"select\", \"tip\", \"shop\", \"square\", \"first\", \"actual\", \"incorrect\", \"entire\", \"perhaps\", \"campground\", \"year\", \"store\", \"corner\", \"checked\", \"deletion\", \"validator\", \"unit\", \"floor\", \"behind\", \"less\", \"church\", \"geometry\", \"stupid\", \"properly\", \"company\", \"golf_course\", \"version\", \"key\", \"thanks\", \"look\", \"address\", \"left\", \"house\", \"question\", \"location\", \"mph_button\", \"row_button\", \"mention\", \"number\", \"miss\", \"member\", \"office\", \"necessary\", \"either\", \"message\", \"course\", \"reference\", \"direction\", \"mph\", \"interpolation\", \"icon\", \"send\", \"speed\", \"shape\", \"hard\", \"population\", \"limit\", \"estimate\", \"bunch\", \"simultaneously\", \"put\", \"place\", \"parking\", \"usually\", \"boundary\", \"least\", \"resident\", \"jos\\u00e9\", \"casper\", \"defiance\", \"current\", \"via\", \"clear\", \"california\", \"oops\", \"multiple\", \"role\", \"hey\", \"wyoming\", \"reserve\", \"passing\", \"payment\", \"define\", \"multipolygon\", \"configuration\", \"zoom\", \"certain\", \"jason\", \"preset\", \"together\", \"recheck\", \"degree\", \"lot\"], \"Freq\": [558.0, 710.0, 430.0, 932.0, 345.0, 746.0, 346.0, 310.0, 362.0, 203.0, 395.0, 165.0, 177.0, 380.0, 195.0, 322.0, 318.0, 312.0, 96.0, 135.0, 514.0, 110.0, 163.0, 416.0, 109.0, 397.0, 232.0, 287.0, 93.0, 101.0, 52.508731842041016, 50.1485710144043, 37.21202850341797, 27.17794418334961, 25.202972412109375, 24.598304748535156, 22.908241271972656, 18.57163429260254, 18.309581756591797, 17.060894012451172, 17.01580047607422, 16.78197479248047, 14.97986125946045, 13.683680534362793, 12.961302757263184, 12.39887809753418, 11.369813919067383, 10.883333206176758, 10.705269813537598, 10.64592456817627, 10.12568473815918, 9.740680694580078, 9.157121658325195, 9.101024627685547, 8.701899528503418, 8.599477767944336, 8.119850158691406, 7.91664457321167, 7.531231880187988, 7.476523399353027, 8.388580322265625, 15.83570384979248, 344.6736145019531, 77.26631164550781, 73.04425811767578, 47.07589340209961, 38.44615173339844, 34.57866668701172, 34.406639099121094, 32.13716506958008, 30.516319274902344, 26.284704208374023, 24.150835037231445, 23.205524444580078, 21.42611312866211, 20.68246841430664, 19.678462982177734, 19.583812713623047, 18.9117488861084, 17.734294891357422, 16.628440856933594, 16.41620445251465, 16.251020431518555, 15.135327339172363, 14.6253023147583, 14.224602699279785, 14.116617202758789, 12.22977352142334, 11.944939613342285, 11.858246803283691, 11.202130317687988, 10.56576156616211, 504.080810546875, 58.8991584777832, 353.83795166015625, 127.2101821899414, 34.97835922241211, 34.10254669189453, 29.562952041625977, 19.710426330566406, 109.45569610595703, 67.91651153564453, 56.4673957824707, 51.682918548583984, 47.031150817871094, 38.43474578857422, 32.673404693603516, 29.547096252441406, 27.333227157592773, 26.035669326782227, 25.671993255615234, 24.578044891357422, 23.129453659057617, 22.672183990478516, 21.992849349975586, 20.22333526611328, 20.08546257019043, 17.452896118164062, 16.57372283935547, 15.75806713104248, 15.028491020202637, 13.446901321411133, 13.03216552734375, 13.03216552734375, 12.519399642944336, 12.248086929321289, 11.770827293395996, 10.73405933380127, 9.94675350189209, 9.242286682128906, 84.37345123291016, 17.941946029663086, 12.444724082946777, 931.65576171875, 250.53684997558594, 220.23385620117188, 188.74830627441406, 181.7567596435547, 166.21841430664062, 139.68435668945312, 137.05575561523438, 132.40867614746094, 119.68487548828125, 113.70246124267578, 113.6846694946289, 108.6109619140625, 101.70240020751953, 101.67794799804688, 93.3681411743164, 90.72515106201172, 89.59915924072266, 89.57392883300781, 88.73637390136719, 83.22016143798828, 81.65007019042969, 81.58074188232422, 77.42842102050781, 74.87459564208984, 73.5314712524414, 72.61921691894531, 72.50325012207031, 71.82198333740234, 69.38333892822266, 239.10305786132812, 258.260986328125, 228.92787170410156, 137.07232666015625, 245.93746948242188, 326.003662109375, 486.7686767578125, 97.65264129638672, 151.01409912109375, 234.68783569335938, 230.5599365234375, 102.32047271728516, 102.28594970703125, 136.03451538085938, 123.79554748535156, 346.1038818359375, 194.27220153808594, 162.990966796875, 71.72808074951172, 65.53221130371094, 63.399166107177734, 70.55447387695312, 50.261295318603516, 49.123016357421875, 45.670867919921875, 45.11134719848633, 41.33631896972656, 41.02526092529297, 39.55746841430664, 37.8385124206543, 37.63312911987305, 37.1741828918457, 36.780086517333984, 35.64789581298828, 35.10637283325195, 35.037818908691406, 34.14777755737305, 32.47653579711914, 31.009668350219727, 30.893436431884766, 30.484039306640625, 29.84981918334961, 29.704593658447266, 29.438583374023438, 28.90748405456543, 298.91387939453125, 44.12667465209961, 96.86334228515625, 44.22450637817383, 48.60586929321289, 111.75993347167969, 47.08885192871094, 48.884891510009766, 83.89617919921875, 71.19435119628906, 59.525634765625, 58.58880615234375, 56.613861083984375, 49.23008346557617, 36.9620361328125, 33.688350677490234, 33.22107696533203, 31.45484733581543, 28.877323150634766, 27.702550888061523, 27.036439895629883, 25.632421493530273, 22.959150314331055, 22.777362823486328, 21.968791961669922, 19.879093170166016, 17.80862808227539, 16.22272300720215, 14.166773796081543, 13.400132179260254, 12.19711685180664, 11.721749305725098, 11.654484748840332, 11.641085624694824, 10.938119888305664, 10.322851181030273, 9.634419441223145, 9.547052383422852, 9.34880256652832, 8.94361400604248, 118.73200225830078, 12.4773530960083, 18.654720306396484, 15.303918838500977, 394.3568420410156, 380.0592346191406, 321.35980224609375, 317.66046142578125, 311.9759521484375, 231.29673767089844, 170.56936645507812, 115.4759750366211, 111.61590576171875, 110.73825073242188, 107.95234680175781, 98.69181060791016, 84.67794799804688, 83.25145721435547, 81.94481658935547, 78.2508773803711, 71.03424072265625, 69.31271362304688, 69.0914077758789, 66.75674438476562, 63.83338928222656, 60.69789505004883, 54.909141540527344, 53.79481887817383, 53.26595687866211, 51.7474365234375, 50.77138137817383, 47.73662185668945, 45.20839309692383, 45.03725814819336, 202.15444946289062, 142.53286743164062, 170.61907958984375, 690.9031372070312, 267.8633728027344, 188.00723266601562, 84.68474578857422, 400.9746398925781, 131.4149627685547, 122.550537109375, 356.2601623535156, 241.7302703857422, 203.4525604248047, 87.9966812133789, 161.5926513671875, 189.9163818359375, 99.51615142822266, 90.39722442626953, 96.06041717529297, 56.54145431518555, 31.147836685180664, 15.903769493103027, 15.552572250366211, 14.110719680786133, 13.844353675842285, 12.445100784301758, 12.279197692871094, 11.824252128601074, 11.455755233764648, 8.132100105285645, 8.114826202392578, 8.018107414245605, 7.982176303863525, 6.600622653961182, 5.811324119567871, 5.705774307250977, 5.1996541023254395, 5.172999382019043, 5.071953296661377, 4.562826633453369, 3.8803250789642334, 3.778164863586426, 3.7355685234069824, 3.7231640815734863, 3.6334433555603027, 3.5727062225341797, 3.170502185821533, 3.143348455429077, 3.931016206741333, 3.8729135990142822, 429.64117431640625, 176.65626525878906, 135.08828735351562, 67.09654235839844, 58.082218170166016, 56.87118911743164, 51.65104675292969, 43.367828369140625, 37.72727966308594, 30.228878021240234, 29.73044776916504, 27.913110733032227, 27.496829986572266, 25.72492790222168, 21.58037757873535, 21.49725914001465, 20.81382942199707, 20.631114959716797, 18.400432586669922, 18.341703414916992, 18.097707748413086, 17.64314842224121, 17.48650550842285, 17.435474395751953, 17.077070236206055, 16.184471130371094, 15.70959186553955, 14.913546562194824, 14.370672225952148, 13.76819133758545, 58.357086181640625, 30.5178279876709, 19.49370574951172, 165.14759826660156, 108.8316879272461, 92.55220031738281, 67.39229583740234, 59.98064041137695, 59.19037628173828, 58.0312614440918, 56.27467727661133, 50.947017669677734, 38.46762466430664, 30.957664489746094, 30.931459426879883, 30.316146850585938, 27.639436721801758, 22.597780227661133, 21.559829711914062, 19.914793014526367, 19.447219848632812, 18.936124801635742, 18.583993911743164, 17.600862503051758, 16.956880569458008, 16.921398162841797, 16.324237823486328, 16.316802978515625, 16.29465675354004, 16.146831512451172, 15.500038146972656, 15.292755126953125, 14.90245246887207, 59.48408126831055, 21.714536666870117, 61.71174621582031, 27.168182373046875, 26.53726577758789, 22.758358001708984, 20.007789611816406, 18.48326301574707, 18.48326301574707, 18.474655151367188, 15.034246444702148, 14.30527114868164, 13.869460105895996, 12.808544158935547, 12.298550605773926, 12.037952423095703, 11.923035621643066, 11.439349174499512, 10.939704895019531, 9.886614799499512, 9.412311553955078, 7.248405456542969, 5.455856800079346, 5.223487377166748, 4.015853404998779, 3.6493124961853027, 3.411205768585205, 2.9753360748291016, 2.709108829498291, 2.7063686847686768, 2.6761233806610107, 2.6726980209350586, 12.158998489379883], \"Total\": [558.0, 710.0, 430.0, 932.0, 345.0, 746.0, 346.0, 310.0, 362.0, 203.0, 395.0, 165.0, 177.0, 380.0, 195.0, 322.0, 318.0, 312.0, 96.0, 135.0, 514.0, 110.0, 163.0, 416.0, 109.0, 397.0, 232.0, 287.0, 93.0, 101.0, 53.36148452758789, 51.00135803222656, 38.064842224121094, 28.030744552612305, 26.05571174621582, 25.451068878173828, 23.761011123657227, 19.424360275268555, 19.162302017211914, 17.913639068603516, 17.868576049804688, 17.634748458862305, 15.832582473754883, 14.536468505859375, 13.814018249511719, 13.251721382141113, 12.222649574279785, 11.736143112182617, 11.558145523071289, 11.498680114746094, 10.9783935546875, 10.593440055847168, 10.009860038757324, 9.953798294067383, 9.554646492004395, 9.452374458312988, 8.972641944885254, 8.769447326660156, 8.383967399597168, 8.329264640808105, 11.221597671508789, 108.24291229248047, 345.5041198730469, 78.09677124023438, 73.87477111816406, 47.90634536743164, 39.27659225463867, 35.40910720825195, 35.23707962036133, 32.96775436401367, 31.346803665161133, 27.11513900756836, 24.981496810913086, 24.03603172302246, 22.256916046142578, 21.51299476623535, 20.509328842163086, 20.41436004638672, 19.742294311523438, 18.564922332763672, 17.459726333618164, 17.246692657470703, 17.081514358520508, 15.965856552124023, 15.455775260925293, 15.055121421813965, 14.947182655334473, 13.060307502746582, 12.775578498840332, 12.688718795776367, 12.032654762268066, 11.396262168884277, 558.6668701171875, 83.36727905273438, 710.8182373046875, 362.6595458984375, 82.80403900146484, 99.27923583984375, 193.5583038330078, 122.38519287109375, 110.29922485351562, 68.76020812988281, 57.31087112426758, 52.52639389038086, 47.87462615966797, 39.27831268310547, 33.51693344116211, 30.390869140625, 28.176692962646484, 26.879472732543945, 26.51548194885254, 25.42156982421875, 23.97296142578125, 23.515771865844727, 22.836355209350586, 21.066946029663086, 20.929059982299805, 18.2963924407959, 17.417211532592773, 16.601665496826172, 15.872115135192871, 14.291412353515625, 13.876142501831055, 13.876142501831055, 13.362866401672363, 13.091602325439453, 12.614323616027832, 11.577693939208984, 10.79024887084961, 10.085797309875488, 203.85704040527344, 25.748676300048828, 41.151222229003906, 932.4744873046875, 251.3551788330078, 221.06373596191406, 189.5673828125, 182.57510375976562, 167.03671264648438, 140.502685546875, 137.87403869628906, 133.25694274902344, 120.5031967163086, 114.52075958251953, 114.50294494628906, 109.42925262451172, 102.52071380615234, 102.49622344970703, 94.18645477294922, 91.54345703125, 90.41743469238281, 90.3922119140625, 89.55467987060547, 84.03849029541016, 82.46841430664062, 82.39916229248047, 78.24669647216797, 75.69286346435547, 74.34979248046875, 73.43750762939453, 73.32157135009766, 72.64070129394531, 70.20160675048828, 245.6182403564453, 284.689453125, 252.521240234375, 145.783203125, 279.9561462402344, 397.9225769042969, 667.918701171875, 104.7347412109375, 193.5583038330078, 362.6595458984375, 421.1842346191406, 116.09290313720703, 130.65158081054688, 340.3985900878906, 305.5004577636719, 346.94293212890625, 195.0977325439453, 163.81649780273438, 72.55361938476562, 66.35774230957031, 64.22471618652344, 71.66380310058594, 51.08681106567383, 49.94855880737305, 46.49637985229492, 45.93682861328125, 42.16188049316406, 41.850791931152344, 40.38298797607422, 38.66402053833008, 38.45884704589844, 37.999732971191406, 37.60558319091797, 36.473487854003906, 35.93192672729492, 35.863914489746094, 34.97331619262695, 33.30207443237305, 31.835163116455078, 31.719039916992188, 31.309778213500977, 30.67534065246582, 30.53024673461914, 30.26408576965332, 29.733001708984375, 310.1117248535156, 46.15222930908203, 149.4470977783203, 52.40682601928711, 62.47442626953125, 416.2665710449219, 82.80403900146484, 99.27923583984375, 667.918701171875, 397.9225769042969, 60.353050231933594, 59.41619110107422, 57.441314697265625, 50.05754089355469, 37.78944396972656, 34.51566696166992, 34.048465728759766, 32.28227233886719, 29.70469856262207, 28.530136108398438, 27.863855361938477, 26.45978546142578, 23.786487579345703, 23.604806900024414, 22.79620361328125, 20.70644760131836, 18.636064529418945, 17.050058364868164, 14.994146347045898, 14.227530479431152, 13.024495124816895, 12.549148559570312, 12.482077598571777, 12.46848201751709, 11.765555381774902, 11.15061092376709, 10.461835861206055, 10.374366760253906, 10.17614459991455, 9.771058082580566, 203.85704040527344, 16.094858169555664, 87.99993896484375, 147.43585205078125, 395.1658020019531, 380.86810302734375, 322.1686706542969, 318.4693298339844, 312.78485107421875, 232.10560607910156, 171.3782501220703, 116.28489685058594, 112.42476654052734, 111.54718780517578, 108.7612533569336, 99.50071716308594, 85.48688507080078, 84.06035614013672, 82.75369262695312, 79.05974578857422, 71.84310913085938, 70.12161254882812, 69.91124725341797, 67.56565856933594, 64.64288330078125, 61.51069641113281, 55.71803283691406, 54.603721618652344, 54.07490921020508, 52.55633544921875, 51.580265045166016, 48.545501708984375, 46.017303466796875, 45.84611892700195, 209.4338836669922, 147.8074493408203, 177.67141723632812, 746.2661743164062, 287.4852600097656, 201.01541137695312, 90.383056640625, 514.0643920898438, 147.43585205078125, 141.40541076660156, 710.8182373046875, 416.2665710449219, 340.3985900878906, 103.227783203125, 305.5004577636719, 421.1842346191406, 171.41603088378906, 667.918701171875, 96.9136962890625, 57.39484786987305, 32.00114822387695, 16.757116317749023, 16.4058780670166, 14.964103698730469, 14.697636604309082, 13.298394203186035, 13.133170127868652, 12.678255081176758, 12.309020042419434, 8.9854154586792, 8.96811294555664, 8.871450424194336, 8.835566520690918, 7.453873157501221, 6.664597034454346, 6.5590596199035645, 6.053173542022705, 6.026289463043213, 5.925228118896484, 5.4160943031311035, 4.733628273010254, 4.632530689239502, 4.588829517364502, 4.57651424407959, 4.487003803253174, 4.426322937011719, 4.023949146270752, 3.997119903564453, 8.698874473571777, 13.830015182495117, 430.4710693359375, 177.48617553710938, 135.91830444335938, 67.92645263671875, 58.912105560302734, 57.70109176635742, 52.48090744018555, 44.19772720336914, 38.557193756103516, 31.058799743652344, 30.560386657714844, 28.743043899536133, 28.32676124572754, 26.554859161376953, 22.41043472290039, 22.327173233032227, 21.64396858215332, 21.461013793945312, 19.230422973632812, 19.171812057495117, 18.92783546447754, 18.473047256469727, 18.31644630432129, 18.26534080505371, 17.90693473815918, 17.014835357666016, 16.53952980041504, 15.74354362487793, 15.200550079345703, 14.598183631896973, 108.24291229248047, 514.0643920898438, 305.5004577636719, 165.98463439941406, 109.66871643066406, 93.39260864257812, 68.22936248779297, 60.81767654418945, 60.02803039550781, 58.86884307861328, 57.11193084716797, 51.78403091430664, 39.3046875, 31.79502296447754, 31.768470764160156, 31.153350830078125, 28.476518630981445, 23.43480110168457, 22.396835327148438, 20.751859664916992, 20.284278869628906, 19.773164749145508, 19.4210262298584, 18.43806266784668, 17.793893814086914, 17.7584285736084, 17.16127586364746, 17.153854370117188, 17.131925582885742, 16.983871459960938, 16.33745765686035, 16.130237579345703, 15.739753723144531, 71.01412200927734, 83.36727905273438, 62.57722473144531, 28.033695220947266, 27.40271759033203, 23.6239070892334, 20.873323440551758, 19.34889793395996, 19.34889793395996, 19.340608596801758, 15.899772644042969, 15.170740127563477, 14.734990119934082, 13.674077033996582, 13.16445255279541, 12.903460502624512, 12.788518905639648, 12.304824829101562, 11.805207252502441, 10.752179145812988, 10.279350280761719, 8.11391830444336, 6.3213419914245605, 6.088981628417969, 4.88176965713501, 4.514796257019043, 4.276741981506348, 3.841085195541382, 3.574556350708008, 3.5718398094177246, 3.5421907901763916, 3.538219690322876, 101.0553207397461], \"Category\": [\"Default\", \"Default\", \"Default\", \"Default\", \"Default\", \"Default\", \"Default\", \"Default\", \"Default\", \"Default\", \"Default\", \"Default\", \"Default\", \"Default\", \"Default\", \"Default\", \"Default\", \"Default\", \"Default\", \"Default\", \"Default\", \"Default\", \"Default\", \"Default\", \"Default\", \"Default\", \"Default\", \"Default\", \"Default\", \"Default\", \"Topic1\", \"Topic1\", \"Topic1\", \"Topic1\", \"Topic1\", \"Topic1\", \"Topic1\", \"Topic1\", \"Topic1\", \"Topic1\", \"Topic1\", \"Topic1\", \"Topic1\", \"Topic1\", \"Topic1\", \"Topic1\", \"Topic1\", \"Topic1\", \"Topic1\", \"Topic1\", \"Topic1\", \"Topic1\", \"Topic1\", \"Topic1\", \"Topic1\", \"Topic1\", \"Topic1\", \"Topic1\", \"Topic1\", \"Topic1\", \"Topic1\", \"Topic1\", \"Topic2\", \"Topic2\", \"Topic2\", \"Topic2\", \"Topic2\", \"Topic2\", \"Topic2\", \"Topic2\", \"Topic2\", \"Topic2\", \"Topic2\", \"Topic2\", \"Topic2\", \"Topic2\", \"Topic2\", \"Topic2\", \"Topic2\", \"Topic2\", \"Topic2\", \"Topic2\", \"Topic2\", \"Topic2\", \"Topic2\", \"Topic2\", \"Topic2\", \"Topic2\", \"Topic2\", \"Topic2\", \"Topic2\", \"Topic2\", \"Topic2\", \"Topic2\", \"Topic2\", \"Topic2\", \"Topic2\", \"Topic2\", \"Topic2\", \"Topic2\", \"Topic3\", \"Topic3\", \"Topic3\", \"Topic3\", \"Topic3\", \"Topic3\", \"Topic3\", \"Topic3\", \"Topic3\", \"Topic3\", \"Topic3\", \"Topic3\", \"Topic3\", \"Topic3\", \"Topic3\", \"Topic3\", \"Topic3\", \"Topic3\", \"Topic3\", \"Topic3\", \"Topic3\", \"Topic3\", \"Topic3\", \"Topic3\", \"Topic3\", \"Topic3\", \"Topic3\", \"Topic3\", \"Topic3\", \"Topic3\", \"Topic3\", \"Topic3\", \"Topic3\", \"Topic4\", \"Topic4\", \"Topic4\", \"Topic4\", \"Topic4\", \"Topic4\", \"Topic4\", \"Topic4\", \"Topic4\", \"Topic4\", \"Topic4\", \"Topic4\", \"Topic4\", \"Topic4\", \"Topic4\", \"Topic4\", \"Topic4\", \"Topic4\", \"Topic4\", \"Topic4\", \"Topic4\", \"Topic4\", \"Topic4\", \"Topic4\", \"Topic4\", \"Topic4\", \"Topic4\", \"Topic4\", \"Topic4\", \"Topic4\", \"Topic4\", \"Topic4\", \"Topic4\", \"Topic4\", \"Topic4\", \"Topic4\", \"Topic4\", \"Topic4\", \"Topic4\", \"Topic4\", \"Topic4\", \"Topic4\", \"Topic4\", \"Topic4\", \"Topic4\", \"Topic5\", \"Topic5\", \"Topic5\", \"Topic5\", \"Topic5\", \"Topic5\", \"Topic5\", \"Topic5\", \"Topic5\", \"Topic5\", \"Topic5\", \"Topic5\", \"Topic5\", \"Topic5\", \"Topic5\", \"Topic5\", \"Topic5\", \"Topic5\", \"Topic5\", \"Topic5\", \"Topic5\", \"Topic5\", \"Topic5\", \"Topic5\", \"Topic5\", \"Topic5\", \"Topic5\", \"Topic5\", \"Topic5\", \"Topic5\", \"Topic5\", \"Topic5\", \"Topic5\", \"Topic5\", \"Topic5\", \"Topic5\", \"Topic5\", \"Topic5\", \"Topic5\", \"Topic5\", \"Topic6\", \"Topic6\", \"Topic6\", \"Topic6\", \"Topic6\", \"Topic6\", \"Topic6\", \"Topic6\", \"Topic6\", \"Topic6\", \"Topic6\", \"Topic6\", \"Topic6\", \"Topic6\", \"Topic6\", \"Topic6\", \"Topic6\", \"Topic6\", \"Topic6\", \"Topic6\", \"Topic6\", \"Topic6\", \"Topic6\", \"Topic6\", \"Topic6\", \"Topic6\", \"Topic6\", \"Topic6\", \"Topic6\", \"Topic6\", \"Topic6\", \"Topic6\", \"Topic6\", \"Topic6\", \"Topic7\", \"Topic7\", \"Topic7\", \"Topic7\", \"Topic7\", \"Topic7\", \"Topic7\", \"Topic7\", \"Topic7\", \"Topic7\", \"Topic7\", \"Topic7\", \"Topic7\", \"Topic7\", \"Topic7\", \"Topic7\", \"Topic7\", \"Topic7\", \"Topic7\", \"Topic7\", \"Topic7\", \"Topic7\", \"Topic7\", \"Topic7\", \"Topic7\", \"Topic7\", \"Topic7\", \"Topic7\", \"Topic7\", \"Topic7\", \"Topic7\", \"Topic7\", \"Topic7\", \"Topic7\", \"Topic7\", \"Topic7\", \"Topic7\", \"Topic7\", \"Topic7\", \"Topic7\", \"Topic7\", \"Topic7\", \"Topic7\", \"Topic7\", \"Topic7\", \"Topic7\", \"Topic7\", \"Topic7\", \"Topic8\", \"Topic8\", \"Topic8\", \"Topic8\", \"Topic8\", \"Topic8\", \"Topic8\", \"Topic8\", \"Topic8\", \"Topic8\", \"Topic8\", \"Topic8\", \"Topic8\", \"Topic8\", \"Topic8\", \"Topic8\", \"Topic8\", \"Topic8\", \"Topic8\", \"Topic8\", \"Topic8\", \"Topic8\", \"Topic8\", \"Topic8\", \"Topic8\", \"Topic8\", \"Topic8\", \"Topic8\", \"Topic8\", \"Topic8\", \"Topic8\", \"Topic8\", \"Topic9\", \"Topic9\", \"Topic9\", \"Topic9\", \"Topic9\", \"Topic9\", \"Topic9\", \"Topic9\", \"Topic9\", \"Topic9\", \"Topic9\", \"Topic9\", \"Topic9\", \"Topic9\", \"Topic9\", \"Topic9\", \"Topic9\", \"Topic9\", \"Topic9\", \"Topic9\", \"Topic9\", \"Topic9\", \"Topic9\", \"Topic9\", \"Topic9\", \"Topic9\", \"Topic9\", \"Topic9\", \"Topic9\", \"Topic9\", \"Topic9\", \"Topic9\", \"Topic9\", \"Topic10\", \"Topic10\", \"Topic10\", \"Topic10\", \"Topic10\", \"Topic10\", \"Topic10\", \"Topic10\", \"Topic10\", \"Topic10\", \"Topic10\", \"Topic10\", \"Topic10\", \"Topic10\", \"Topic10\", \"Topic10\", \"Topic10\", \"Topic10\", \"Topic10\", \"Topic10\", \"Topic10\", \"Topic10\", \"Topic10\", \"Topic10\", \"Topic10\", \"Topic10\", \"Topic10\", \"Topic10\", \"Topic10\", \"Topic10\", \"Topic10\", \"Topic10\", \"Topic11\", \"Topic11\", \"Topic11\", \"Topic11\", \"Topic11\", \"Topic11\", \"Topic11\", \"Topic11\", \"Topic11\", \"Topic11\", \"Topic11\", \"Topic11\", \"Topic11\", \"Topic11\", \"Topic11\", \"Topic11\", \"Topic11\", \"Topic11\", \"Topic11\", \"Topic11\", \"Topic11\", \"Topic11\", \"Topic11\", \"Topic11\", \"Topic11\", \"Topic11\", \"Topic11\", \"Topic11\", \"Topic11\", \"Topic11\", \"Topic11\"], \"logprob\": [30.0, 29.0, 28.0, 27.0, 26.0, 25.0, 24.0, 23.0, 22.0, 21.0, 20.0, 19.0, 18.0, 17.0, 16.0, 15.0, 14.0, 13.0, 12.0, 11.0, 10.0, 9.0, 8.0, 7.0, 6.0, 5.0, 4.0, 3.0, 2.0, 1.0, -2.9312000274658203, -2.9772000312805176, -3.2755000591278076, -3.5896999835968018, -3.6651999950408936, -3.689500093460083, -3.7606000900268555, -3.9704999923706055, -3.9846999645233154, -4.0553998947143555, -4.058000087738037, -4.071800231933594, -4.185400009155273, -4.275899887084961, -4.3302001953125, -4.374499797821045, -4.46120023727417, -4.504899978637695, -4.521399974822998, -4.5269999504089355, -4.577099800109863, -4.615799903869629, -4.677599906921387, -4.683800220489502, -4.728600025177002, -4.7403998374938965, -4.797800064086914, -4.823200225830078, -4.8730998039245605, -4.88040018081665, -4.7652997970581055, -4.129899978637695, -2.163800001144409, -3.65910005569458, -3.7153000831604004, -4.154600143432617, -4.357100009918213, -4.463099956512451, -4.468100070953369, -4.536300182342529, -4.588099956512451, -4.737400054931641, -4.822000026702881, -4.861999988555908, -4.941699981689453, -4.977099895477295, -5.026800155639648, -5.031700134277344, -5.0665998458862305, -5.130899906158447, -5.195199966430664, -5.208099842071533, -5.218200206756592, -5.289299964904785, -5.323599815368652, -5.351399898529053, -5.359000205993652, -5.502500057220459, -5.526000022888184, -5.533299922943115, -5.590199947357178, -5.64870023727417, -1.7835999727249146, -3.930500030517578, -2.137500047683716, -3.1605000495910645, -4.451600074768066, -4.4770002365112305, -4.619800090789795, -5.025199890136719, -2.671099901199341, -3.1482999324798584, -3.3329999446868896, -3.4214999675750732, -3.5157999992370605, -3.7177000045776367, -3.8801000118255615, -3.980600118637085, -4.058499813079834, -4.1072001457214355, -4.121200084686279, -4.16480016708374, -4.225500106811523, -4.245500087738037, -4.275899887084961, -4.359799861907959, -4.366600036621094, -4.5071001052856445, -4.558800220489502, -4.609300136566162, -4.656700134277344, -4.767899990081787, -4.799200057983398, -4.799200057983398, -4.839300155639648, -4.861299991607666, -4.901000022888184, -4.993199825286865, -5.069399833679199, -5.1427998542785645, -2.9314000606536865, -4.479499816894531, -4.845300197601318, -2.8032000064849854, -4.116600036621094, -4.245500087738037, -4.399799823760986, -4.4375, -4.526899814605713, -4.700799942016602, -4.719799995422363, -4.754300117492676, -4.855299949645996, -4.906599998474121, -4.906700134277344, -4.952400207519531, -5.018099784851074, -5.018400192260742, -5.103600025177002, -5.132299900054932, -5.144800186157227, -5.145100116729736, -5.1545000076293945, -5.218699932098389, -5.23769998550415, -5.23859977722168, -5.290800094604492, -5.324399948120117, -5.34250020980835, -5.354899883270264, -5.356500148773193, -5.366000175476074, -5.4004998207092285, -4.163300037384033, -4.08620023727417, -4.2067999839782715, -4.719699859619141, -4.1350998878479, -3.853300094604492, -3.452399969100952, -5.058800220489502, -4.622799873352051, -4.1819000244140625, -4.199699878692627, -5.0121002197265625, -5.012400150299072, -4.72730016708374, -4.821499824523926, -2.59660005569458, -3.174099922180176, -3.3496999740600586, -4.170499801635742, -4.260799884796143, -4.293900012969971, -4.186999797821045, -4.526199817657471, -4.549099922180176, -4.6219000816345215, -4.634300231933594, -4.72160005569458, -4.7291998863220215, -4.765600204467773, -4.810100078582764, -4.815499782562256, -4.8277997970581055, -4.838399887084961, -4.869699954986572, -4.885000228881836, -4.88700008392334, -4.912700176239014, -4.962900161743164, -5.009099960327148, -5.012800216674805, -5.026199817657471, -5.0472002029418945, -5.05210018157959, -5.061100006103516, -5.0792999267578125, -2.7432000637054443, -4.656300067901611, -3.8701000213623047, -4.654099941253662, -4.559599876403809, -3.7269999980926514, -4.591300010681152, -4.553899765014648, -4.013800144195557, -4.177999973297119, -3.2183001041412354, -3.2342000007629395, -3.2685000896453857, -3.4082000255584717, -3.6947999000549316, -3.787600040435791, -3.801500082015991, -3.8561999797821045, -3.9416000843048096, -3.9832000732421875, -4.007500171661377, -4.060800075531006, -4.171000003814697, -4.178899765014648, -4.215099811553955, -4.315000057220459, -4.425000190734863, -4.5183000564575195, -4.653800010681152, -4.709400177001953, -4.803500175476074, -4.843299865722656, -4.848999977111816, -4.850200176239014, -4.912499904632568, -4.970300197601318, -5.039400100708008, -5.048500061035156, -5.069499969482422, -5.113800048828125, -2.5278000831604004, -4.780799865722656, -4.378600120544434, -4.576600074768066, -3.3598999977111816, -3.3968000411987305, -3.5645999908447266, -3.576200008392334, -3.5941998958587646, -3.8935000896453857, -4.197999954223633, -4.588099956512451, -4.622099876403809, -4.630000114440918, -4.6554999351501465, -4.745100021362305, -4.8983001708984375, -4.915299892425537, -4.931099891662598, -4.977200031280518, -5.073999881744385, -5.098499774932861, -5.1016998291015625, -5.136099815368652, -5.1809000968933105, -5.231200218200684, -5.331500053405762, -5.3520002365112305, -5.3618998527526855, -5.3907999992370605, -5.409800052642822, -5.471499919891357, -5.525899887084961, -5.529699802398682, -4.02810001373291, -4.377600193023682, -4.197700023651123, -2.7992000579833984, -3.7467000484466553, -4.1006999015808105, -4.898200035095215, -3.3433001041412354, -4.458799839019775, -4.528600215911865, -3.4614999294281006, -3.849299907684326, -4.021699905395508, -4.859899997711182, -4.252099990844727, -4.09060001373291, -4.736800193786621, -4.832900047302246, -2.0409998893737793, -2.571000099182129, -3.1672000885009766, -3.839400053024292, -3.8617000579833984, -3.9590001106262207, -3.978100061416626, -4.08459997177124, -4.0980000495910645, -4.135799884796143, -4.167399883270264, -4.5100998878479, -4.512199878692627, -4.524199962615967, -4.52869987487793, -4.718800067901611, -4.846099853515625, -4.8643999099731445, -4.957300186157227, -4.962500095367432, -4.9822001457214355, -5.0879998207092285, -5.25, -5.276700019836426, -5.288000106811523, -5.291399955749512, -5.315700054168701, -5.332600116729736, -5.452000141143799, -5.460599899291992, -5.236999988555908, -5.2519001960754395, -1.7683000564575195, -2.657099962234497, -2.9254000186920166, -3.625200033187866, -3.769399881362915, -3.7904999256134033, -3.8868000507354736, -4.061600208282471, -4.200900077819824, -4.422500133514404, -4.4390997886657715, -4.502200126647949, -4.517199993133545, -4.583799839019775, -4.759500026702881, -4.763400077819824, -4.7957000732421875, -4.804500102996826, -4.918900012969971, -4.922100067138672, -4.935500144958496, -4.960899829864502, -4.969900131225586, -4.972799777984619, -4.993500232696533, -5.0472002029418945, -5.077000141143799, -5.129000186920166, -5.166100025177002, -5.208899974822998, -3.764699935913086, -4.413000106811523, -4.861199855804443, -2.49429988861084, -2.91129994392395, -3.0732998847961426, -3.3905999660491943, -3.5071001052856445, -3.5202999114990234, -3.54010009765625, -3.5708000659942627, -3.670300006866455, -3.9512999057769775, -4.168499946594238, -4.169300079345703, -4.1894001960754395, -4.281899929046631, -4.4832000732421875, -4.530300140380859, -4.609600067138672, -4.633399963378906, -4.659999847412109, -4.678800106048584, -4.733099937438965, -4.770400047302246, -4.772500038146973, -4.8084001541137695, -4.808899879455566, -4.810299873352051, -4.819399833679199, -4.860300064086914, -4.873700141906738, -4.899600028991699, -3.515399932861328, -4.523099899291992, -2.399199962615967, -3.219599962234497, -3.2430999279022217, -3.396699905395508, -3.5255000591278076, -3.60479998588562, -3.60479998588562, -3.6052000522613525, -3.811300039291382, -3.8610000610351562, -3.891900062561035, -3.9714999198913574, -4.012199878692627, -4.033599853515625, -4.0432000160217285, -4.08459997177124, -4.129199981689453, -4.230500221252441, -4.279600143432617, -4.540900230407715, -4.824900150299072, -4.868500232696533, -5.131400108337402, -5.227099895477295, -5.294600009918213, -5.431300163269043, -5.525000095367432, -5.526000022888184, -5.537300109863281, -5.53849983215332, -4.023600101470947], \"loglift\": [30.0, 29.0, 28.0, 27.0, 26.0, 25.0, 24.0, 23.0, 22.0, 21.0, 20.0, 19.0, 18.0, 17.0, 16.0, 15.0, 14.0, 13.0, 12.0, 11.0, 10.0, 9.0, 8.0, 7.0, 6.0, 5.0, 4.0, 3.0, 2.0, 1.0, 3.791800022125244, 3.7909998893737793, 3.7852001190185547, 3.7769999504089355, 3.774600028991699, 3.7737998962402344, 3.771399974822998, 3.763000011444092, 3.762399911880493, 3.7590999603271484, 3.759000062942505, 3.7583000659942627, 3.752500057220459, 3.7474000453948975, 3.7441999912261963, 3.7414000034332275, 3.735599994659424, 3.7325000762939453, 3.731300115585327, 3.7309000492095947, 3.727099895477295, 3.7239999771118164, 3.718899965286255, 3.7183001041412354, 3.714400053024292, 3.7132999897003174, 3.7079999446868896, 3.7056000232696533, 3.7005999088287354, 3.699899911880493, 3.516900062561035, 1.8858000040054321, 2.6912999153137207, 2.683000087738037, 2.6823999881744385, 2.6761999130249023, 2.672300100326538, 2.6700000762939453, 2.669800043106079, 2.6682000160217285, 2.666800022125244, 2.662600040435791, 2.659899950027466, 2.6584999561309814, 2.6556999683380127, 2.6542999744415283, 2.6522998809814453, 2.6521999835968018, 2.650700092315674, 2.647900104522705, 2.64490008354187, 2.6442999839782715, 2.643899917602539, 2.6403000354766846, 2.6384999752044678, 2.636899948120117, 2.6364998817443848, 2.628000020980835, 2.626499891281128, 2.625999927520752, 2.6222000122070312, 2.618000030517578, 2.59089994430542, 2.346299886703491, 1.9960999488830566, 1.6461000442504883, 1.8319000005722046, 1.625100016593933, 0.8145999908447266, 0.8676999807357788, 3.325700044631958, 3.3210999965667725, 3.3185999393463135, 3.317199945449829, 3.3155999183654785, 3.3117001056671143, 3.3078999519348145, 3.305299997329712, 3.302999973297119, 3.301500082015991, 3.301100015640259, 3.2997000217437744, 3.297600030899048, 3.2969000339508057, 3.295799970626831, 3.29259991645813, 3.29229998588562, 3.2862000465393066, 3.283799886703491, 3.2813000679016113, 3.2788000106811523, 3.2725000381469727, 3.270699977874756, 3.270699977874756, 3.268199920654297, 3.2667999267578125, 3.26419997215271, 3.2578001022338867, 3.252000093460083, 3.2460999488830566, 2.4512999057769775, 2.9721999168395996, 2.137500047683716, 1.059000015258789, 1.0565999746322632, 1.0561000108718872, 1.0555000305175781, 1.055400013923645, 1.0549999475479126, 1.0540000200271606, 1.0539000034332275, 1.0535000562667847, 1.0530999898910522, 1.0527000427246094, 1.0527000427246094, 1.05239999294281, 1.051900029182434, 1.051900029182434, 1.051200032234192, 1.0508999824523926, 1.0507999658584595, 1.0507999658584595, 1.0506999492645264, 1.0500999689102173, 1.0499000549316406, 1.0499000549316406, 1.049399971961975, 1.0490000247955322, 1.048799991607666, 1.048699975013733, 1.048699975013733, 1.0484999418258667, 1.048200011253357, 1.0329999923706055, 0.9624000191688538, 0.9617999792098999, 0.9983000159263611, 0.9302999973297119, 0.8604999780654907, 0.7434999942779541, 0.9898999929428101, 0.8116999864578247, 0.6247000098228455, 0.45730000734329224, 0.9336000084877014, 0.8151000142097473, 0.14270000159740448, 0.1565999984741211, 2.254199981689453, 2.2523999214172363, 2.2516000270843506, 2.2451999187469482, 2.2441000938415527, 2.2437000274658203, 2.2411000728607178, 2.2404000759124756, 2.240000009536743, 2.2386999130249023, 2.2385001182556152, 2.2369000911712646, 2.2367000579833984, 2.2360000610351562, 2.235100030899048, 2.234999895095825, 2.2346999645233154, 2.234499931335449, 2.233799934387207, 2.2334001064300537, 2.2334001064300537, 2.232800006866455, 2.231600046157837, 2.2304000854492188, 2.230299949645996, 2.2298998832702637, 2.2293999195098877, 2.2291998863220215, 2.2290000915527344, 2.2284998893737793, 2.219899892807007, 2.2118000984191895, 1.8229999542236328, 2.086899995803833, 2.0055999755859375, 0.9416999816894531, 1.692199945449829, 1.548200011253357, 0.18209999799728394, 0.5357999801635742, 3.381500005722046, 3.3812999725341797, 3.3808000087738037, 3.378700017929077, 3.373199939727783, 3.3710999488830566, 3.370699882507324, 3.3694000244140625, 3.3671000003814697, 3.3659000396728516, 3.3652000427246094, 3.363600015640259, 3.3598999977111816, 3.3596999645233154, 3.3584001064300537, 3.354599952697754, 3.349900007247925, 3.345599889755249, 3.338599920272827, 3.335400104522705, 3.329699993133545, 3.3271000385284424, 3.32669997215271, 3.32669997215271, 3.3224000930786133, 3.31820011138916, 3.312999963760376, 3.3122000694274902, 3.310499906539917, 3.3069000244140625, 2.85479998588562, 3.1407999992370605, 1.844099998474121, 1.1301000118255615, 1.36080002784729, 1.36080002784729, 1.3603999614715576, 1.3603999614715576, 1.3602999448776245, 1.3594000339508057, 1.358199954032898, 1.3559000492095947, 1.3557000160217285, 1.3555999994277954, 1.3553999662399292, 1.354699969291687, 1.3533999919891357, 1.3531999588012695, 1.3530999422073364, 1.3525999784469604, 1.3516000509262085, 1.3513000011444092, 1.351099967956543, 1.3509000539779663, 1.3502999544143677, 1.3495999574661255, 1.3482999801635742, 1.3480000495910645, 1.3478000164031982, 1.3473999500274658, 1.347100019454956, 1.3460999727249146, 1.3451999425888062, 1.3451000452041626, 1.3274999856948853, 1.3265999555587769, 1.3223999738693237, 1.2857999801635742, 1.292199969291687, 1.2960000038146973, 1.2977999448776245, 1.114400029182434, 1.2479000091552734, 1.2197999954223633, 0.6721000075340271, 0.8194000124931335, 0.8482000231742859, 1.2032999992370605, 0.7260000109672546, 0.5663999915122986, 0.819100022315979, -0.6370999813079834, 4.085299968719482, 4.079100131988525, 4.0671000480651855, 4.041900157928467, 4.0406999588012695, 4.035399913787842, 4.034299850463867, 4.0278000831604, 4.026899814605713, 4.024400234222412, 4.022299766540527, 3.99429988861084, 3.9941000938415527, 3.993000030517578, 3.992500066757202, 3.972599983215332, 3.9570999145507812, 3.9547998905181885, 3.9421000480651855, 3.9414000511169434, 3.9386000633239746, 3.9226999282836914, 3.8952999114990234, 3.8903000354766846, 3.888400077819824, 3.8877999782562256, 3.8831000328063965, 3.8798999786376953, 3.8557000160217285, 3.853800058364868, 3.299799919128418, 2.8213000297546387, 2.86680006980896, 2.8640999794006348, 2.862600088119507, 2.8564999103546143, 2.854599952697754, 2.854300022125244, 2.852799892425537, 2.8498001098632812, 2.8469998836517334, 2.8417000770568848, 2.841200113296509, 2.8394999504089355, 2.8389999866485596, 2.8369998931884766, 2.8310000896453857, 2.830899953842163, 2.829699993133545, 2.8292999267578125, 2.8245999813079834, 2.82450008392334, 2.823899984359741, 2.8227999210357666, 2.8224000930786133, 2.8222999572753906, 2.8213000297546387, 2.818700075149536, 2.8173000812530518, 2.8145999908447266, 2.8125998973846436, 2.8101999759674072, 2.250999927520752, 0.04470000043511391, 0.1168999969959259, 3.093899965286255, 3.0913000106811523, 3.089900016784668, 3.0866000652313232, 3.085099935531616, 3.08489990234375, 3.0845999717712402, 3.084199905395508, 3.08270001411438, 3.077399969100952, 3.0722999572753906, 3.0722999572753906, 3.071700096130371, 3.0690999031066895, 3.0625998973846436, 3.0608999729156494, 3.057800054550171, 3.05679988861084, 3.0557000637054443, 3.0548999309539795, 3.052500009536743, 3.050800085067749, 3.0506999492645264, 3.0488998889923096, 3.0488998889923096, 3.048799991607666, 3.0483999252319336, 3.046299934387207, 3.045599937438965, 3.044300079345703, 2.921799898147583, 1.7537000179290771, 4.1645002365112305, 4.14709997177124, 4.146299839019775, 4.14109992980957, 4.136099815368652, 4.132599830627441, 4.132599830627441, 4.132599830627441, 4.122399806976318, 4.119699954986572, 4.1178998947143555, 4.11299991607666, 4.110400199890137, 4.109000205993652, 4.10830020904541, 4.105500221252441, 4.10230016708374, 4.0945000648498535, 4.0903000831604, 4.0655999183654785, 4.031199932098389, 4.025100231170654, 3.9832000732421875, 3.96560001373291, 3.9523000717163086, 3.9230000972747803, 3.90120005607605, 3.900899887084961, 3.8980000019073486, 3.897900104522705, 2.060800075531006]}, \"token.table\": {\"Topic\": [8, 5, 3, 9, 4, 5, 7, 9, 1, 1, 1, 10, 6, 3, 3, 6, 4, 7, 6, 7, 5, 4, 7, 7, 2, 4, 9, 10, 1, 7, 1, 10, 8, 9, 4, 3, 8, 11, 1, 1, 9, 10, 8, 4, 3, 6, 11, 9, 1, 2, 11, 5, 11, 1, 4, 7, 3, 7, 8, 2, 4, 7, 9, 9, 4, 3, 11, 2, 4, 8, 5, 9, 6, 1, 11, 1, 8, 9, 5, 7, 6, 2, 7, 10, 6, 8, 6, 11, 5, 7, 2, 1, 8, 2, 11, 11, 2, 11, 5, 7, 9, 2, 2, 8, 2, 4, 10, 8, 1, 1, 5, 5, 2, 7, 7, 7, 10, 9, 5, 2, 7, 3, 10, 5, 10, 1, 8, 6, 6, 7, 2, 3, 6, 9, 4, 9, 3, 7, 1, 6, 1, 1, 6, 6, 9, 4, 4, 7, 10, 9, 4, 6, 7, 8, 7, 8, 5, 10, 2, 5, 9, 2, 5, 7, 11, 4, 5, 7, 2, 4, 8, 10, 7, 1, 10, 4, 7, 8, 3, 6, 7, 1, 9, 6, 5, 10, 3, 5, 8, 11, 11, 4, 1, 5, 9, 4, 7, 3, 2, 6, 1, 6, 3, 5, 11, 10, 9, 5, 7, 4, 7, 10, 1, 7, 3, 2, 10, 4, 7, 9, 5, 4, 11, 4, 7, 7, 6, 4, 4, 7, 1, 2, 3, 4, 6, 10, 10, 10, 10, 7, 3, 5, 3, 10, 10, 11, 11, 5, 3, 2, 4, 10, 6, 4, 7, 6, 4, 2, 6, 4, 2, 5, 1, 10, 7, 10, 3, 6, 3, 5, 9, 11, 3, 11, 2, 2, 4, 7, 7, 4, 4, 11, 8, 11, 11, 9, 3, 2, 9, 10, 2, 7, 7, 10, 11, 5, 5, 2, 9, 2, 5, 7, 7, 10, 10, 6, 8, 8, 3, 2, 5, 9, 3, 7, 11, 8, 3, 10, 8, 5, 7, 6, 4, 5, 7, 8, 11, 11, 5, 5, 8, 4, 5, 7, 8, 7, 4, 5, 11, 4, 10, 8, 6, 4, 4, 4, 7, 9, 10, 2, 5, 7, 3, 10, 9, 1, 3, 7, 5, 1, 6, 10, 4, 7, 2, 7, 1, 10, 9, 6, 5, 7, 4, 2, 9, 8, 2, 4, 6, 10, 9, 1, 1, 4, 4, 2, 1, 8, 7, 10, 4, 5, 7, 9, 4, 4, 6, 1, 5, 7, 9, 11, 3, 8, 3, 7, 6, 5, 7, 2, 2, 4, 6, 4, 3, 7, 8, 3, 3, 9, 8, 4, 7, 3, 11, 9, 1, 8, 5, 9, 11, 6, 4, 5, 5, 2, 4, 7, 9, 5, 3, 4, 7, 4, 9, 11, 9, 11], \"Freq\": [0.9355722665786743, 0.992369532585144, 0.9637587070465088, 0.9855489134788513, 0.7291306257247925, 0.12576380372047424, 0.13474693894386292, 0.008983129635453224, 0.9632280468940735, 0.9594825506210327, 0.9474133253097534, 0.994067907333374, 0.9669355154037476, 0.9899784922599792, 0.980559229850769, 0.9624267220497131, 0.9730547666549683, 0.024428153410553932, 0.9349324703216553, 0.9887502789497375, 0.981009304523468, 0.878709077835083, 0.1178756058216095, 0.9871131181716919, 0.9797025322914124, 0.8786066770553589, 0.008613791316747665, 0.10336548835039139, 0.9517097473144531, 0.9900548458099365, 0.7129109501838684, 0.1782277375459671, 0.8914634585380554, 0.9743925929069519, 0.9938062429428101, 0.9817308783531189, 0.9036846160888672, 0.9853037595748901, 0.8999685049057007, 0.9393443465232849, 0.9989057183265686, 0.9299305081367493, 0.8716819882392883, 0.9949209094047546, 0.9889440536499023, 0.9762765169143677, 0.950704038143158, 0.9531622529029846, 0.9566315412521362, 0.9674973487854004, 0.9302855134010315, 0.9759113192558289, 0.7014685273170471, 0.9630950093269348, 0.5484535694122314, 0.45110899209976196, 0.9368597865104675, 0.997049868106842, 0.968715250492096, 0.1634184569120407, 0.5392809510231018, 0.29415324330329895, 0.970247209072113, 0.9307245016098022, 0.9876427054405212, 0.9450536370277405, 0.9501193761825562, 0.9706454277038574, 0.9943200945854187, 0.9905720353126526, 0.9740641117095947, 0.9527715444564819, 0.9558551907539368, 0.9372755289077759, 0.8193749785423279, 0.9521417021751404, 0.7505404353141785, 0.9405579566955566, 0.05969691649079323, 0.9352516531944275, 0.9814183712005615, 0.9751659631729126, 0.9778929948806763, 0.9822816252708435, 0.9826232194900513, 0.9147652983665466, 0.9788734912872314, 0.9434097409248352, 0.06609034538269043, 0.9322217106819153, 0.9761542081832886, 0.9489975571632385, 0.8260129690170288, 0.9141789674758911, 0.9306842684745789, 0.7909712791442871, 0.9366850852966309, 0.8478840589523315, 0.03342343494296074, 0.9645048379898071, 0.978518545627594, 0.9736693501472473, 0.9859562516212463, 0.8634589314460754, 0.9705110192298889, 0.9970069527626038, 0.9366859793663025, 0.8450177907943726, 0.891599178314209, 0.9679722785949707, 0.9796061515808105, 0.9773309826850891, 0.9624007940292358, 0.9985262751579285, 0.9908923506736755, 0.9952366352081299, 0.9832662343978882, 0.9816629886627197, 0.9826321005821228, 0.9457219839096069, 0.9882645606994629, 0.9166181087493896, 0.9793445467948914, 0.8395853042602539, 0.13357038795948029, 0.9640058279037476, 0.9752601981163025, 0.9923171401023865, 0.10173916071653366, 0.8885220289230347, 0.9277141094207764, 0.972845196723938, 0.9213408827781677, 0.9729006886482239, 0.9937934875488281, 0.9509803652763367, 0.9096371531486511, 0.9869656562805176, 0.9419500827789307, 0.8844214081764221, 0.8991134762763977, 0.8404103517532349, 0.9650729894638062, 0.9137214422225952, 0.9493528604507446, 0.9936606287956238, 0.7807023525238037, 0.18369467556476593, 0.02296183444559574, 0.9210193157196045, 0.9956075549125671, 0.9613783955574036, 0.9887630939483643, 0.9465025067329407, 0.4598295986652374, 0.4598295986652374, 0.9787262082099915, 0.9327349662780762, 0.9607110619544983, 0.9880691170692444, 0.9972607493400574, 0.34246838092803955, 0.4935573935508728, 0.1611616015434265, 0.8939582705497742, 0.14894302189350128, 0.26905834674835205, 0.5813582539558411, 0.9299160838127136, 0.9951586127281189, 0.9525340795516968, 0.9957961440086365, 0.9889435768127441, 0.9122581481933594, 0.976241409778595, 0.145309716463089, 0.8524836897850037, 0.9023646116256714, 0.4120534658432007, 0.5837423801422119, 0.9916974306106567, 0.9439803957939148, 0.9659098386764526, 0.9941502213478088, 0.9943734407424927, 0.9783211350440979, 0.9267627000808716, 0.9946088790893555, 0.8296979665756226, 0.7810292840003967, 0.9302855134010315, 0.995614230632782, 0.14781568944454193, 0.3048698604106903, 0.535831868648529, 0.9905675053596497, 0.9801218509674072, 0.9771270155906677, 0.9366313815116882, 0.9639142751693726, 0.9513908624649048, 0.896811842918396, 0.9633761644363403, 0.9893243312835693, 0.9735900163650513, 0.9939023852348328, 0.928127646446228, 0.9736910462379456, 0.9916279911994934, 0.9068543910980225, 0.09108144789934158, 0.9420702457427979, 0.980366051197052, 0.9894145131111145, 0.9672808647155762, 0.918814480304718, 0.986555278301239, 0.4058913588523865, 0.5302774310112, 0.06219303235411644, 0.958231508731842, 0.8708101511001587, 0.11874683946371078, 0.39953163266181946, 0.5963596701622009, 0.9974907636642456, 0.9384132027626038, 0.9828835129737854, 0.9356971383094788, 0.05728758126497269, 0.9720255732536316, 0.9810808897018433, 0.9512995481491089, 0.7840914726257324, 0.21590924263000488, 0.9749953746795654, 0.9805306792259216, 0.9814463257789612, 0.9668058156967163, 0.9873857498168945, 0.9594142436981201, 0.9870182871818542, 0.9882209300994873, 0.9608982801437378, 0.9828741550445557, 0.9299830794334412, 0.8211553692817688, 0.9796708226203918, 0.9493544697761536, 0.3501906991004944, 0.6479906439781189, 0.9629782438278198, 0.9602793455123901, 0.12729357182979584, 0.8698394298553467, 0.9658827185630798, 0.9985869526863098, 0.9648926854133606, 0.9791094064712524, 0.987403154373169, 0.4226846992969513, 0.5676051378250122, 0.9410730004310608, 0.9848595857620239, 0.9962217807769775, 0.9758102893829346, 0.18639492988586426, 0.745579719543457, 0.984576940536499, 0.9641686677932739, 0.029021797701716423, 0.006449288688600063, 0.8923439383506775, 0.9115456938743591, 0.9588739275932312, 0.902147650718689, 0.0035799508914351463, 0.09128875285387039, 0.9977207183837891, 0.9952952861785889, 0.9908463954925537, 0.9907758235931396, 0.9054314494132996, 0.8755417466163635, 0.8627151250839233, 0.9741487503051758, 0.9556090831756592, 0.7077116966247559, 0.023990226909518242, 0.2638925015926361, 0.4980176091194153, 0.5008312463760376, 0.9950945377349854, 0.9339288473129272, 0.839264988899231, 0.980930745601654, 0.9753472208976746, 0.9884462952613831, 0.9673793911933899, 0.9889365434646606, 0.9828258752822876, 0.9963724613189697, 0.1548987627029419, 0.8308206796646118, 0.9819819331169128, 0.9689972996711731, 0.9002794623374939, 0.8920494318008423, 0.9582387804985046, 0.9568967223167419, 0.7843209505081177, 0.20808514952659607, 0.2916073799133301, 0.6804172396659851, 0.8469334840774536, 0.8903316855430603, 0.9834168553352356, 0.9637690186500549, 0.9548182487487793, 0.6490591168403625, 0.34794920682907104, 0.9210875630378723, 0.9968500137329102, 0.9950157999992371, 0.6507585048675537, 0.2892259955406189, 0.9300440549850464, 0.9581607580184937, 0.973766028881073, 0.9838964343070984, 0.9017691016197205, 0.021667426452040672, 0.953366756439209, 0.9977928996086121, 0.8936535716056824, 0.986595630645752, 0.9964222311973572, 0.9972821474075317, 0.9383416771888733, 0.9953832626342773, 0.9852410554885864, 0.9137169122695923, 0.985059916973114, 0.9940424561500549, 0.9951557517051697, 0.9062506556510925, 0.09132758527994156, 0.9863609671592712, 0.9553838968276978, 0.9652287364006042, 0.99073725938797, 0.9840047359466553, 0.9780669808387756, 0.9323316216468811, 0.9878495931625366, 0.9822770357131958, 0.03382779285311699, 0.9674749374389648, 0.9609010815620422, 0.9781531691551208, 0.9743778109550476, 0.9530009627342224, 0.9840670824050903, 0.9930006861686707, 0.9392921328544617, 0.9889504313468933, 0.9041774272918701, 0.9572919011116028, 0.990836501121521, 0.9658691883087158, 0.9779842495918274, 0.9949676990509033, 0.991179883480072, 0.9881587028503418, 0.9816855788230896, 0.7455362677574158, 0.15499205887317657, 0.780126690864563, 0.010332804173231125, 0.05683042109012604, 0.9403558373451233, 0.9108800888061523, 0.9542021751403809, 0.9994911551475525, 0.9940633773803711, 0.9435269236564636, 0.9055427312850952, 0.9931204915046692, 0.9624508023262024, 0.033770203590393066, 0.1322791427373886, 0.027233941480517387, 0.7800579071044922, 0.06030372902750969, 0.9954527020454407, 0.9960773587226868, 0.956240177154541, 0.04425608366727829, 0.011064020916819572, 0.9404417276382446, 0.984517514705658, 0.8399032950401306, 0.9760460257530212, 0.9391090869903564, 0.699065089225769, 0.2718586325645447, 0.9336977005004883, 0.9721697568893433, 0.9815443754196167, 0.939504861831665, 0.9695704579353333, 0.9956610202789307, 0.9929953217506409, 0.9958242177963257, 0.9871386289596558, 0.9943045377731323, 0.8438493609428406, 0.9368597865104675, 0.9501028656959534, 0.9388784170150757, 0.874027669429779, 0.07370024174451828, 0.9259430766105652, 0.9291449189186096, 0.9631266593933105, 0.936016857624054, 0.9932257533073425, 0.9231745004653931, 0.9581671357154846, 0.9590234160423279, 0.9228290915489197, 0.969206690788269, 0.8192548751831055, 0.17842666804790497, 0.9905161261558533, 0.9985409379005432, 0.9397516250610352, 0.020578501746058464, 0.034297503530979156, 0.9724423885345459, 0.9674550294876099, 0.4141969680786133, 0.5833759903907776, 0.9951881170272827, 0.9932436943054199, 0.9317921996116638, 0.9791051745414734, 0.8859757781028748], \"Term\": [\"absolutely\", \"access\", \"accurate\", \"actual\", \"add\", \"add\", \"add\", \"add\", \"additional\", \"addr\", \"addr_housenumber\", \"address\", \"adjust\", \"aerial\", \"alignment\", \"allison\", \"also\", \"also\", \"anyone\", \"apology\", \"appreciate\", \"area\", \"area\", \"around\", \"available\", \"back\", \"back\", \"back\", \"backward\", \"base\", \"begin\", \"begin\", \"beginner\", \"behind\", \"best\", \"bing\", \"bother\", \"boundary\", \"brand\", \"bridge\", \"building\", \"bunch\", \"buren\", \"business\", \"button\", \"ca\", \"california\", \"campground\", \"careful\", \"careful_editing\", \"casper\", \"census\", \"certain\", \"challenge\", \"change\", \"change\", \"changelog\", \"changeset\", \"changesets\", \"check\", \"check\", \"check\", \"checked\", \"church\", \"city\", \"clayton\", \"clear\", \"close\", \"come\", \"comment\", \"community\", \"company\", \"compare\", \"completely\", \"configuration\", \"continue\", \"continued\", \"corner\", \"correct\", \"correct\", \"correction\", \"correspond\", \"county\", \"course\", \"cross\", \"crossing\", \"curious\", \"current\", \"data\", \"data\", \"database\", \"day\", \"deal\", \"default\", \"defiance\", \"define\", \"definition\", \"degree\", \"delete\", \"delete\", \"deletion\", \"described\", \"description\", \"determine\", \"difference\", \"different\", \"direction\", \"disconnect\", \"discussion\", \"draw\", \"driveway\", \"duplicate\", \"east\", \"edit\", \"editor\", \"edits\", \"either\", \"entire\", \"entrance\", \"entry\", \"error\", \"esri\", \"estimate\", \"even\", \"even\", \"every\", \"exactly\", \"example\", \"exist\", \"exist\", \"exists\", \"exit\", \"feedback\", \"first\", \"fix\", \"floor\", \"focus\", \"follow\", \"footpath\", \"footway\", \"footways\", \"forgot\", \"found\", \"full\", \"geometry\", \"get\", \"go\", \"go\", \"go\", \"golf_course\", \"good\", \"gps\", \"ground\", \"hamlet\", \"happens\", \"happens\", \"happy\", \"hard\", \"head\", \"healthcare\", \"hello\", \"help\", \"help\", \"help\", \"hey\", \"hi\", \"hi\", \"hi\", \"high\", \"highway\", \"home\", \"house\", \"however\", \"hundred\", \"icon\", \"id\", \"id\", \"ignore\", \"imagery\", \"imagery\", \"import\", \"important\", \"incorrect\", \"info\", \"information\", \"interpolation\", \"intersection\", \"issue\", \"j\", \"jason\", \"jos\\u00e9\", \"keep\", \"key\", \"key\", \"key\", \"know\", \"knowledge\", \"lane\", \"last\", \"latest_private\", \"latter\", \"law\", \"layer\", \"learn\", \"least\", \"left\", \"less\", \"let_know\", \"level\", \"like\", \"like\", \"limit\", \"link\", \"list\", \"localknowledge\", \"locate\", \"location\", \"look\", \"look\", \"look\", \"looking_forward\", \"lot\", \"lot\", \"make\", \"make\", \"map\", \"mapbox\", \"mapped\", \"mapping\", \"mapping\", \"maproulette\", \"mark\", \"match\", \"may\", \"may\", \"member\", \"mention\", \"message\", \"miss\", \"mistake\", \"month\", \"mostly\", \"move\", \"mph\", \"mph_button\", \"multiple\", \"multipolygon\", \"must\", \"naip\", \"name\", \"name\", \"necessary\", \"never\", \"new\", \"new\", \"nice\", \"node\", \"node_meters\", \"north\", \"note\", \"notice\", \"notice\", \"notice_minimum\", \"number\", \"object\", \"office\", \"offset\", \"offset\", \"old\", \"one\", \"one\", \"one\", \"onramp\", \"oops\", \"original_position\", \"osm\", \"osm\", \"osm\", \"osmcha\", \"outline\", \"park\", \"parking\", \"particularly\", \"passing\", \"payment\", \"perhaps\", \"physical\", \"place\", \"place\", \"place\", \"please\", \"please\", \"point\", \"population\", \"preset\", \"private\", \"problem\", \"problems_corresponding\", \"properly\", \"property\", \"provide\", \"publish\", \"put\", \"put\", \"question\", \"quick\", \"railroad\", \"railway\", \"ramp\", \"real\", \"reason\", \"reason\", \"recent\", \"recent\", \"recheck\", \"recommend\", \"ref\", \"reference\", \"refresh\", \"regard\", \"regard\", \"related\", \"relation\", \"remove\", \"report\", \"report\", \"reserve\", \"resident\", \"residential\", \"restore\", \"restrict\", \"restriction\", \"restriction\", \"revert\", \"reverted_fully\", \"review\", \"right\", \"road\", \"role\", \"route\", \"row_button\", \"sadly\", \"satellite\", \"say\", \"school\", \"see\", \"see\", \"select\", \"send\", \"seo\", \"service\", \"set\", \"shall\", \"shape\", \"shop\", \"short\", \"show\", \"show\", \"side\", \"sidewalk\", \"simply\", \"simultaneously\", \"since\", \"something\", \"sort\", \"source\", \"spam\", \"speed\", \"square\", \"st\", \"standard\", \"station\", \"still\", \"stop\", \"store\", \"straight\", \"street\", \"street\", \"street\", \"street\", \"stupid\", \"su\", \"sunday\", \"tag\", \"take\", \"task\", \"teach\", \"tell\", \"thank\", \"thank\", \"thanks\", \"thanks\", \"thanks\", \"thanks\", \"thing\", \"think\", \"tiger\", \"time\", \"time\", \"time\", \"tip\", \"together\", \"topo\", \"township\", \"trace\", \"trace\", \"track\", \"traffic\", \"trail\", \"train\", \"transit\", \"try\", \"turn\", \"two\", \"typo\", \"u\", \"unaware\", \"underwent\", \"unfortunately\", \"unit\", \"unofficial\", \"use\", \"use\", \"usgs\", \"usually\", \"validator\", \"value\", \"vandalism\", \"verify\", \"version\", \"via\", \"visible\", \"way\", \"way\", \"website\", \"welcome\", \"well\", \"well\", \"well\", \"whole\", \"without\", \"work\", \"work\", \"would\", \"wrong\", \"wyoming\", \"year\", \"zoom\"]}, \"R\": 30, \"lambda.step\": 0.01, \"plot.opts\": {\"xlab\": \"PC1\", \"ylab\": \"PC2\"}, \"topic.order\": [1, 2, 3, 4, 5, 6, 7, 8, 9, 10, 11]};\n",
       "\n",
       "function LDAvis_load_lib(url, callback){\n",
       "  var s = document.createElement('script');\n",
       "  s.src = url;\n",
       "  s.async = true;\n",
       "  s.onreadystatechange = s.onload = callback;\n",
       "  s.onerror = function(){console.warn(\"failed to load library \" + url);};\n",
       "  document.getElementsByTagName(\"head\")[0].appendChild(s);\n",
       "}\n",
       "\n",
       "if(typeof(LDAvis) !== \"undefined\"){\n",
       "   // already loaded: just create the visualization\n",
       "   !function(LDAvis){\n",
       "       new LDAvis(\"#\" + \"ldavis_el763618848166664403331133003\", ldavis_el763618848166664403331133003_data);\n",
       "   }(LDAvis);\n",
       "}else if(typeof define === \"function\" && define.amd){\n",
       "   // require.js is available: use it to load d3/LDAvis\n",
       "   require.config({paths: {d3: \"https://cdnjs.cloudflare.com/ajax/libs/d3/3.5.5/d3.min\"}});\n",
       "   require([\"d3\"], function(d3){\n",
       "      window.d3 = d3;\n",
       "      LDAvis_load_lib(\"https://cdn.rawgit.com/bmabey/pyLDAvis/files/ldavis.v1.0.0.js\", function(){\n",
       "        new LDAvis(\"#\" + \"ldavis_el763618848166664403331133003\", ldavis_el763618848166664403331133003_data);\n",
       "      });\n",
       "    });\n",
       "}else{\n",
       "    // require.js not available: dynamically load d3 & LDAvis\n",
       "    LDAvis_load_lib(\"https://cdnjs.cloudflare.com/ajax/libs/d3/3.5.5/d3.min.js\", function(){\n",
       "         LDAvis_load_lib(\"https://cdn.rawgit.com/bmabey/pyLDAvis/files/ldavis.v1.0.0.js\", function(){\n",
       "                 new LDAvis(\"#\" + \"ldavis_el763618848166664403331133003\", ldavis_el763618848166664403331133003_data);\n",
       "            })\n",
       "         });\n",
       "}\n",
       "</script>"
      ],
      "text/plain": [
       "PreparedData(topic_coordinates=              x         y  topics  cluster       Freq\n",
       "topic                                                \n",
       "0      0.118750  0.014183       1        1   2.219461\n",
       "1     -0.051980 -0.149940       2        1   6.763063\n",
       "2      0.131512 -0.061667       3        1   3.567082\n",
       "3     -0.279913 -0.085289       4        1  34.649860\n",
       "4     -0.092830  0.333061       5        1  10.469932\n",
       "5      0.125528 -0.055481       6        1   3.352907\n",
       "6     -0.305649 -0.049410       7        1  25.591850\n",
       "7      0.121271 -0.015083       8        1   1.667040\n",
       "8      0.037563  0.146749       9        1   5.676897\n",
       "9      0.078331 -0.074487      10        1   4.509635\n",
       "10     0.117418 -0.002637      11        1   1.532278, topic_info=          Term        Freq       Total Category  logprob  loglift\n",
       "132        osm  558.000000  558.000000  Default  30.0000  30.0000\n",
       "91      please  710.000000  710.000000  Default  29.0000  29.0000\n",
       "3     building  430.000000  430.000000  Default  28.0000  28.0000\n",
       "16         tag  932.000000  932.000000  Default  27.0000  27.0000\n",
       "215    welcome  345.000000  345.000000  Default  26.0000  26.0000\n",
       "...        ...         ...         ...      ...      ...      ...\n",
       "520     preset    2.709109    3.574556  Topic11  -5.5250   3.9012\n",
       "841   together    2.706369    3.571840  Topic11  -5.5260   3.9009\n",
       "4139   recheck    2.676123    3.542191  Topic11  -5.5373   3.8980\n",
       "2368    degree    2.672698    3.538220  Topic11  -5.5385   3.8979\n",
       "31         lot   12.158998  101.055321  Topic11  -4.0236   2.0608\n",
       "\n",
       "[428 rows x 6 columns], token_table=      Topic      Freq        Term\n",
       "term                             \n",
       "3730      8  0.935572  absolutely\n",
       "342       5  0.992370      access\n",
       "1791      3  0.963759    accurate\n",
       "26        9  0.985549      actual\n",
       "20        4  0.729131         add\n",
       "...     ...       ...         ...\n",
       "101       4  0.995188       would\n",
       "165       9  0.993244       wrong\n",
       "3485     11  0.931792     wyoming\n",
       "581       9  0.979105        year\n",
       "25       11  0.885976        zoom\n",
       "\n",
       "[448 rows x 3 columns], R=30, lambda_step=0.01, plot_opts={'xlab': 'PC1', 'ylab': 'PC2'}, topic_order=[1, 2, 3, 4, 5, 6, 7, 8, 9, 10, 11])"
      ]
     },
     "execution_count": 32,
     "metadata": {},
     "output_type": "execute_result"
    }
   ],
   "source": [
    "# Visualize the results of the LDA \n",
    "pyLDAvis.enable_notebook();\n",
    "vis = pyLDAvis.gensim.prepare(lda_model, corpus, lda_model.id2word, sort_topics=False);\n",
    "vis"
   ]
  },
  {
   "cell_type": "markdown",
   "metadata": {},
   "source": [
    "The table below provides a summary of our interpretation of each of the LDA topics, indicating key attributes such as the general theme and ease of interpretation of each topic. We interpret each topic using the top relevant terms and relative positions indicated in the figure above. We see that the majority of topics address either map subjects (ie. elements of the map) or map activities (ie. editing processes). Overlapping topics 3 and 6 could be combined into a single topic relating to satellite imagery.  "
   ]
  },
  {
   "cell_type": "code",
   "execution_count": 33,
   "metadata": {},
   "outputs": [
    {
     "data": {
      "text/html": [
       "<div>\n",
       "<style scoped>\n",
       "    .dataframe tbody tr th:only-of-type {\n",
       "        vertical-align: middle;\n",
       "    }\n",
       "\n",
       "    .dataframe tbody tr th {\n",
       "        vertical-align: top;\n",
       "    }\n",
       "\n",
       "    .dataframe thead th {\n",
       "        text-align: right;\n",
       "    }\n",
       "</style>\n",
       "<table border=\"1\" class=\"dataframe\">\n",
       "  <thead>\n",
       "    <tr style=\"text-align: right;\">\n",
       "      <th></th>\n",
       "      <th>Topic number</th>\n",
       "      <th>Topic tag</th>\n",
       "      <th>Topic theme</th>\n",
       "      <th>Words informing interpretation</th>\n",
       "      <th>Ease of interpretation</th>\n",
       "      <th>Topic size (%)</th>\n",
       "    </tr>\n",
       "  </thead>\n",
       "  <tbody>\n",
       "    <tr>\n",
       "      <th>0</th>\n",
       "      <td>1</td>\n",
       "      <td>pathways</td>\n",
       "      <td>Mapping subject</td>\n",
       "      <td>sidewalk; bridge; footways; footpath; link</td>\n",
       "      <td>Moderate</td>\n",
       "      <td>2.20%</td>\n",
       "    </tr>\n",
       "    <tr>\n",
       "      <th>1</th>\n",
       "      <td>2</td>\n",
       "      <td>introductions</td>\n",
       "      <td>Communication</td>\n",
       "      <td>osm; please; welcome; name; help</td>\n",
       "      <td>Challenging</td>\n",
       "      <td>6.80%</td>\n",
       "    </tr>\n",
       "    <tr>\n",
       "      <th>2</th>\n",
       "      <td>3</td>\n",
       "      <td>satellite imagery b</td>\n",
       "      <td>Mapping activity</td>\n",
       "      <td>imagery; aerial; bing; esri; trace; topo</td>\n",
       "      <td>Easy</td>\n",
       "      <td>3.60%</td>\n",
       "    </tr>\n",
       "    <tr>\n",
       "      <th>3</th>\n",
       "      <td>4</td>\n",
       "      <td>basic map elements</td>\n",
       "      <td>Mapping subject</td>\n",
       "      <td>tag; add; way; node; relation; area</td>\n",
       "      <td>Easy</td>\n",
       "      <td>34.60%</td>\n",
       "    </tr>\n",
       "    <tr>\n",
       "      <th>4</th>\n",
       "      <td>5</td>\n",
       "      <td>roads a</td>\n",
       "      <td>Mapping subject</td>\n",
       "      <td>road; access; way; driveway; private</td>\n",
       "      <td>Moderate</td>\n",
       "      <td>10.50%</td>\n",
       "    </tr>\n",
       "    <tr>\n",
       "      <th>5</th>\n",
       "      <td>6</td>\n",
       "      <td>satellite imagery a</td>\n",
       "      <td>Mapping activity</td>\n",
       "      <td>imagery; satellite; mapbox; gps; adjust</td>\n",
       "      <td>Easy</td>\n",
       "      <td>3.40%</td>\n",
       "    </tr>\n",
       "    <tr>\n",
       "      <th>6</th>\n",
       "      <td>7</td>\n",
       "      <td>basic map activities</td>\n",
       "      <td>Mapping activity</td>\n",
       "      <td>changeset; publish; change; correct; edit; map...</td>\n",
       "      <td>Easy</td>\n",
       "      <td>25.60%</td>\n",
       "    </tr>\n",
       "    <tr>\n",
       "      <th>7</th>\n",
       "      <td>8</td>\n",
       "      <td>railway and challenges</td>\n",
       "      <td>Mapping subject/Emotional tone</td>\n",
       "      <td>railway; vandalism; sadly; unaware; crossing; ...</td>\n",
       "      <td>Challenging</td>\n",
       "      <td>1.70%</td>\n",
       "    </tr>\n",
       "    <tr>\n",
       "      <th>8</th>\n",
       "      <td>9</td>\n",
       "      <td>buildings</td>\n",
       "      <td>Mapping subject</td>\n",
       "      <td>building; shop; geometry; corner; store; floor...</td>\n",
       "      <td>Easy</td>\n",
       "      <td>5.70%</td>\n",
       "    </tr>\n",
       "    <tr>\n",
       "      <th>9</th>\n",
       "      <td>10</td>\n",
       "      <td>roads b</td>\n",
       "      <td>Mapping subject</td>\n",
       "      <td>mph_button; limit; mph; direction; speed</td>\n",
       "      <td>Moderate</td>\n",
       "      <td>4.50%</td>\n",
       "    </tr>\n",
       "    <tr>\n",
       "      <th>10</th>\n",
       "      <td>11</td>\n",
       "      <td>people and places</td>\n",
       "      <td>Mapping subject</td>\n",
       "      <td>california; jose; jason; jose; wyoming</td>\n",
       "      <td>Moderate</td>\n",
       "      <td>1.50%</td>\n",
       "    </tr>\n",
       "  </tbody>\n",
       "</table>\n",
       "</div>"
      ],
      "text/plain": [
       "    Topic number               Topic tag                     Topic theme  \\\n",
       "0              1                pathways                 Mapping subject   \n",
       "1              2           introductions                   Communication   \n",
       "2              3     satellite imagery b                Mapping activity   \n",
       "3              4      basic map elements                 Mapping subject   \n",
       "4              5                 roads a                 Mapping subject   \n",
       "5              6    satellite imagery a                 Mapping activity   \n",
       "6              7    basic map activities                Mapping activity   \n",
       "7              8  railway and challenges  Mapping subject/Emotional tone   \n",
       "8              9               buildings                 Mapping subject   \n",
       "9             10                 roads b                 Mapping subject   \n",
       "10            11       people and places                 Mapping subject   \n",
       "\n",
       "                       Words informing interpretation Ease of interpretation  \\\n",
       "0          sidewalk; bridge; footways; footpath; link               Moderate   \n",
       "1                    osm; please; welcome; name; help            Challenging   \n",
       "2            imagery; aerial; bing; esri; trace; topo                   Easy   \n",
       "3                 tag; add; way; node; relation; area                   Easy   \n",
       "4                road; access; way; driveway; private               Moderate   \n",
       "5             imagery; satellite; mapbox; gps; adjust                   Easy   \n",
       "6   changeset; publish; change; correct; edit; map...                   Easy   \n",
       "7   railway; vandalism; sadly; unaware; crossing; ...            Challenging   \n",
       "8   building; shop; geometry; corner; store; floor...                   Easy   \n",
       "9            mph_button; limit; mph; direction; speed               Moderate   \n",
       "10             california; jose; jason; jose; wyoming               Moderate   \n",
       "\n",
       "   Topic size (%)  \n",
       "0           2.20%  \n",
       "1           6.80%  \n",
       "2           3.60%  \n",
       "3          34.60%  \n",
       "4          10.50%  \n",
       "5           3.40%  \n",
       "6          25.60%  \n",
       "7           1.70%  \n",
       "8           5.70%  \n",
       "9           4.50%  \n",
       "10          1.50%  "
      ]
     },
     "execution_count": 33,
     "metadata": {},
     "output_type": "execute_result"
    }
   ],
   "source": [
    "# Read in the csv with interpretation\n",
    "lda_interpretation = pd.read_csv(\"lda_interpretation.csv\")\n",
    "lda_interpretation"
   ]
  },
  {
   "cell_type": "markdown",
   "metadata": {},
   "source": [
    "Next, we can see the overall distribution and mean of the polarity scores from our sentiment analysis. This figure shows that a notable majority of the changeset discussion threads are neutral in sentiment. The distribution is skewed, with more discussion threads assigned positive scores than negative. "
   ]
  },
  {
   "cell_type": "code",
   "execution_count": 34,
   "metadata": {},
   "outputs": [
    {
     "data": {
      "image/png": "[encoded data removed]",
      "text/plain": [
       "<Figure size 1296x360 with 1 Axes>"
      ]
     },
     "metadata": {
      "needs_background": "light"
     },
     "output_type": "display_data"
    }
   ],
   "source": [
    "plt.figure(figsize=(18, 5))\n",
    "plt.hist(scores, density=False, bins=60, color='g');\n",
    "plt.axvline(mean(scores), color='k', linestyle='dashed', linewidth=2)\n",
    "plt.ylabel('Frequency');\n",
    "plt.xlabel('Compound polarity scores');\n",
    "plt.title('Polarity scores of changeset comments');"
   ]
  },
  {
   "cell_type": "markdown",
   "metadata": {},
   "source": [
    "We now combine the results of the topic modelling with those from the sentiment analysis to better understand how the two correspond. We first classify each discussion thread according to its dominant topic, then link that to the overall polarity score for the thread. The graph below shows us the distribution of polarity scores for each topic. We see that many of the topics have a comparatively large number of threads with neutral polarity scores. The ‘pathways’ topic has the most concentrated distribution of polarity scores, and is entirely positive. The implementation of some of this code is aided by Prabhakaran (2018c)."
   ]
  },
  {
   "cell_type": "code",
   "execution_count": 35,
   "metadata": {},
   "outputs": [],
   "source": [
    "# Create a dataframe with the sentiment score and dominant topic for each discussion threas \n",
    "# Adapted from: https://www.machinelearningplus.com/nlp/topic-modeling-visualization-how-to-present-results-lda-models\n",
    "\n",
    "topics_sent = pd.DataFrame() # Output dataframe\n",
    "\n",
    "# Get main topic in each document\n",
    "for i, row_list in enumerate(lda_model[corpus]):\n",
    "    row = row_list[0] if lda_model.per_word_topics else row_list            \n",
    "    row = sorted(row, key=lambda x: (x[1]), reverse=True)\n",
    "    # Get the dominant topic and % contribution for each thread\n",
    "    for j, (topic_num, prop_topic) in enumerate(row):\n",
    "        if j == 0: \n",
    "            topics_sent = topics_sent.append(pd.Series([int(topic_num), round(prop_topic,4)]), ignore_index=True)\n",
    "        else:\n",
    "            break\n",
    "\n",
    "sent = pd.Series(scores)\n",
    "topics_sent = pd.concat([topics_sent, sent], axis=1) # Add sentiment scores \n",
    "topics_sent.columns = ['topic', 'Perc_Contribution', 'sentiment'] # Rename the columns\n",
    "\n",
    "topic_vals = lda_interpretation['Topic tag'] # Get the topics tags \n",
    "replaced = topics_sent[\"topic\"].replace({0: topic_vals[0], 1: topic_vals[1], 2: topic_vals[2], 3: topic_vals[3], 4: topic_vals[4], 5: topic_vals[5], 6: topic_vals[6], 7: topic_vals[7], 8: topic_vals[8], 9: topic_vals[9], 10: topic_vals[10]})\n",
    "tagged = pd.concat([topics_sent, replaced], axis=1)\n",
    "tagged.columns = ['topic', 'Perc_Contribution', 'sentiment', 'tag'] # Rename the columns"
   ]
  },
  {
   "cell_type": "code",
   "execution_count": 36,
   "metadata": {},
   "outputs": [
    {
     "data": {
      "image/png": "[encoded data removed]",
      "text/plain": [
       "<Figure size 1080x360 with 11 Axes>"
      ]
     },
     "metadata": {
      "needs_background": "light"
     },
     "output_type": "display_data"
    }
   ],
   "source": [
    "# Create joyplot\n",
    "fig, axes = joypy.joyplot(tagged, by=\"tag\", column=\"sentiment\",figsize=(15,5), range_style='own', \n",
    "                          grid=\"y\", linewidth=1, legend=False,fade=True,\n",
    "                          title=\"Distribution of polarity scores by topic\",\n",
    "                          kind=\"counts\", bins=50)\n",
    "plt.xlabel('Compound polarity scores');\n",
    "plt.show()"
   ]
  },
  {
   "cell_type": "markdown",
   "metadata": {},
   "source": [
    "[Return to top](#top) <br>"
   ]
  },
  {
   "cell_type": "markdown",
   "metadata": {},
   "source": [
    "<a id='discussion'></a>\n",
    "***\n",
    "\n",
    "## Part 6 | Discussion\n",
    "\n",
    "*** "
   ]
  },
  {
   "cell_type": "markdown",
   "metadata": {},
   "source": [
    "### 6.1 | Implications of findings \n",
    "***"
   ]
  },
  {
   "cell_type": "markdown",
   "metadata": {},
   "source": [
    "Our findings indicate that OSM changeset discussions are largely being used as intended. Contributors are most frequently discussing map elements and procedures that are part of the mapping process. Elements such as buildings, roads, and pathways feature prominently in discussion threads. \n",
    "\n",
    "The presence of topics relating to satellite imagery suggests that many contributors are mapping remotely by tracing satellite imagery. Given that this topic is featured in discussions, we may infer that some contributors are struggling to trace imagery appropriately or are dealing with inconsistent imagery between providers (eg. between Bing and ESRI imagery). \n",
    "\n",
    "Overall, we find a low prevalence of comments with a negative tone. It appears as though many contributors engage productively and politely when discussing changesets to the map, as evidenced by the following excerpts from the large number of positively scored discussion threads: \n",
    "\n",
    "> - _Hi, and welcome to OSM! After reviewing the change, it looks like you accidentally dragged the node at the intersection a short distance. I've already undone the change (to keep the road straight). Thanks for editing!_ <br>\n",
    "> - _I continue to be truly impressed with the combination of local knowledge and good OSM tagging. Please, keep up the great work!_ <br>\n",
    "> - _I really appreciate this change. Are you converting the nearby parks to the same style? If not, I can create notes for all Orlando parks._\n",
    "\n",
    "The findings from this analysis indicate that conflict in changeset discussions on OSM may not be as prevalent as in the case of Wikipedia (as suggested by Collier and Bear, 2012; Kittur et al., 2007).\n",
    "\n",
    "The large volume of neutral comments suggests that many interactions between contributors are predominantly transactional, with focus towards improving map edits. This hypothesis is also supported by the fact that the majority of discussion threads only contain one comment. We also acknowledge that this dataset of changeset discussions is not inherently polarized, as in the case of movie or product reviews, and so is more likely to have a significant volume of neutral content. Given the transactional nature of these discussions, we can infer that this mode of communication not provide much social engagement for OSM contributors. This may contrast the community environment at in-person “mapathons”, which have been framed as social contribution environments (Dittus et al., 2016).\n",
    "\n",
    "While our analysis finds a low prevalence of negative comments, a manual review of some of these comments reveals tensions between some OSM contributors. For example, a number of discussions address the tension between perceived ‘local’ vs ‘armchair’ (ie. remote) mappers, as shown by the following excerpts: \n",
    "\n",
    "> - _You don't work here. You don't live here. You don't survey here. You do not use the transit system here. That is armchair mapping._ <br>\n",
    "> - _You are coming off as real demanding as an arm chair mapper._ <br>\n",
    "> - _Please be humble enough to understand that you are engaging in an edit war against local knowledge. Please stop._ <br>\n",
    "\n",
    "These sorts of comments also reveal tones of territoriality, projecting the sense that some mappers feel ownership over regions of the map that they have contributed to.  \n",
    "\n",
    "> - _On what basis are you making these changes?_ <br>\n",
    "> - _You don't touch my stuff and i won't touch yours._ <br>\n",
    "\n",
    "While not frequently occurring, these types of negative communication point to areas where the community has room to grow to be more inclusive to newcomers. "
   ]
  },
  {
   "cell_type": "markdown",
   "metadata": {},
   "source": [
    "### 6.2 | Limitations \n",
    "***\n",
    "\n",
    "It is important to note the limitations of this computational analysis. Firstly, the process of interpreting topic outputs from LDA is highly subjective. A number of topics were challenging to interpret as the collection of keywords did not immediately appear to be related to a distinct theme. \n",
    "\n",
    "A manual inspection of some results from the sentiment analysis also reveals that some discussion threads may contain nuanced tones that cannot be easily understood by VADER’s rule-based approach. For example, VADER assigned the following comment a highly positive score. While this comment contains the positively rated words “please” and “thanks”, its tone is somewhat challenging, suggesting that the contributor who made this edit does not have the authority to do so. \n",
    "\n",
    "> - _Please tell us why you are deleting these? Thanks._\n",
    "\n",
    "While this computational approach can be useful in reducing the amount of labour required to summarize large volumes of text, some manual interpretation and inspection is still required to ensure that the results are meaningful. The unsupervised nature of our analysis also makes it challenging to evaluate the accuracy of our results. "
   ]
  },
  {
   "cell_type": "markdown",
   "metadata": {},
   "source": [
    "[Return to top](#top) <br>"
   ]
  },
  {
   "cell_type": "markdown",
   "metadata": {},
   "source": [
    "<a id='conclusion'></a>\n",
    "***\n",
    "\n",
    "## Part 7 | Conclusion\n",
    "\n",
    "***\n",
    "\n",
    "We have presented an in-depth computational analysis of changeset discussions between OpenStreetMap contributors. We apply LDA to understand the primary subjects in discussion threads, and a rule-based sentiment analysis to understand the distribution in the tone of discussions. Perhaps as expected, we find that discussion threads are often used to discuss common mapping activities and features. Our findings suggest that this mode of communication does not offer much social engagement for contributors, as discussions are often neutral and short. Discussions are largely positive in tone, suggesting that contributors engage in a friendly and constructive manner. Nevertheless, we find the prevalence of some aggression and territoriality that may be intimidating to more inexperienced contributors. \n",
    "\n",
    "Future work could extend this analysis beyond the English-speaking, United States context to see if these findings are consistent in different cultural and linguistic settings. Efforts to manually tag a set of training data according to sentiment and topic and conduct a supervised analysis may also produce more accurate results.  "
   ]
  },
  {
   "cell_type": "markdown",
   "metadata": {},
   "source": [
    "<a id='references'></a>\n",
    "***\n",
    "\n",
    "## Part 8 | References\n",
    "\n",
    "***\n",
    "\n",
    "Blei, D.M., Ng, A.Y., Jordan, M.I., 2003. Latent Dirichlet Allocation. J. Mach. Learn. Res. 3, 993–1022.\n",
    "\n",
    "Budhathoki, N.R., Haythornthwaite, C., 2013. Motivation for Open Collaboration: Crowd and Community Models and the Case of OpenStreetMap. Am. Behav. Sci. 57, 548–575. https://doi.org/10.1177/0002764212469364\n",
    "\n",
    "Chang, J., Gerrish, S., Wang, C., Boyd-graber, J.L., Blei, D.M., 2009. Reading Tea Leaves: How Humans Interpret Topic Models. Adv. Neural Inf. Process. Syst. 288–296.\n",
    "\n",
    "Changeset [WWW Document], n.d. . OpenStreetMap Wiki. URL https://wiki.openstreetmap.org/wiki/Changeset#Changeset_Discussions (accessed 4.27.20).\n",
    "\n",
    "Chuang, J., Manning, C.D., Heer, J., 2012. Termite: visualization techniques for assessing textual topic models, in: Proceedings of the International Working Conference on Advanced Visual Interfaces - AVI ’12. Presented at the the International Working Conference, ACM Press, Capri Island, Italy, p. 74. https://doi.org/10.1145/2254556.2254572\n",
    "\n",
    "Collier, B., Bear, J., 2012. Conflict, criticism, or confidence: an empirical examination of the gender gap in wikipedia contributions, in: Proceedings of the ACM 2012 Conference on Computer Supported Cooperative Work, CSCW ’12. Association for Computing Machinery, Seattle, Washington, USA, pp. 383–392. https://doi.org/10.1145/2145204.2145265\n",
    "\n",
    "Dittus, M., Quattrone, G., Capra, L., 2016. Social Contribution Settings and Newcomer Retention in Humanitarian Crowd Mapping, in: Spiro, E., Ahn, Y.-Y. (Eds.), Social Informatics, Lecture Notes in Computer Science. Springer International Publishing, Cham, pp. 179–193. https://doi.org/10.1007/978-3-319-47874-6_13\n",
    "\n",
    "Diversity and Inclusion Special Committee [WWW Document], n.d. . OpenStreetMap Found. URL https://wiki.osmfoundation.org/wiki/Diversity_and_Inclusion_Special_Committee (accessed 5.6.20).\n",
    "\n",
    "Feldman, R., Sanger, J., 2006. The Text Mining Handbook: Advanced Approaches in Analyzing Unstructured Data / Ronen Feldman, James Sanger. University Press, Cambridge.\n",
    "\n",
    "Gardner, Z., Mooney, P., De Sabbata, S., Dowthwaite, L., 2019. Quantifying gendered participation in OpenStreetMap: responding to theories of female (under) representation in crowdsourced mapping. GeoJournal. https://doi.org/10.1007/s10708-019-10035-z\n",
    "\n",
    "Haklay, M., 2010. How Good is Volunteered Geographical Information? A Comparative Study of OpenStreetMap and Ordnance Survey Datasets. Environ. Plan. B Plan. Des. 37, 682–703. https://doi.org/10.1068/b35097\n",
    "\n",
    "How do you remove duplicates from a list whilst preserving order? [WWW Document], n.d. . Stack Overflow. URL https://stackoverflow.com/questions/480214/how-do-you-remove-duplicates-from-a-list-whilst-preserving-order (accessed 5.6.20).\n",
    "\n",
    "Hutto, C.J., Gilbert, E., 2014. VADER: A Parsimonious Rule-Based Model for Sentiment Analysis of Social Media Text, in: Eighth International AAAI Conference on Weblogs and Social Media. Presented at the Eighth International AAAI Conference on Weblogs and Social Media.\n",
    "Introducing Changeset Discussions, 2014. \n",
    "\n",
    "OpenStreetMap Blog. URL https://blog.openstreetmap.org/2014/11/02/introducing-changeset-discussions/ (accessed 4.28.20).\n",
    "\n",
    "Jacobi, C., Atteveldt, W. van, Welbers, K., 2016. Quantitative analysis of large amounts of journalistic texts using topic modelling. Digit. Journal. 4, 89–106. https://doi.org/10.1080/21670811.2015.1093271\n",
    "\n",
    "Join the community [WWW Document], n.d. . OpenStreetMap Wiki. URL https://wiki.openstreetmap.org/wiki/Join_the_community (accessed 5.6.20).\n",
    "\n",
    "Latest OpenStreetMap (OSM) Changeset Discussions/Comments [WWW Document], n.d. URL http://resultmaps.neis-one.org/osm-discussions?c=United%20States&d=90#5/-20.978/-121.904 (accessed 5.6.20).\n",
    "\n",
    "Loper, E., Bird, S., 2002. NLTK: The Natural Language Toolkit. arXiv:cs/0205028.\n",
    "\n",
    "Luxen, D., Vetter, C., 2011. Real-time routing with OpenStreetMap data, in: Proceedings of the 19th ACM SIGSPATIAL International Conference on Advances in Geographic Information Systems, GIS ’11. Association for Computing Machinery, Chicago, Illinois, pp. 513–516. https://doi.org/10.1145/2093973.2094062\n",
    "\n",
    "Manning, C.D., Raghavan, P., Schütze, H., 2008. Introduction to Information Retrieval. Cambridge University Press, USA.\n",
    "\n",
    "Mo, Y., Kontonatsios, G., Ananiadou, S., 2015. Supporting systematic reviews using LDA-based document representations. Syst. Rev. 4, 172. https://doi.org/10.1186/s13643-015-0117-0\n",
    "\n",
    "Naveed, N., Gottron, T., Kunegis, J., Alhadi, A.C., 2011. Searching microblogs: coping with sparsity and document quality, in: Proceedings of the 20th ACM International Conference on Information and Knowledge Management - CIKM ’11. Presented at the the 20th ACM international conference, ACM Press, Glasgow, Scotland, UK, p. 183. https://doi.org/10.1145/2063576.2063607\n",
    "\n",
    "Neis, P., 2018. Additional insights about OSM changeset discussions: Who requests, receives and responds? URL https://neis-one.org/2018/04/insights-osm-changeset-discussions/ (accessed 4.7.20).\n",
    "\n",
    "Neis, P., 2017a. Review requests of OpenStreetMap contributors. URL https://neis-one.org/2017/09/review-requests-osm/ (accessed 4.28.20).\n",
    "\n",
    "Neis, P., 2017b. Who is commenting? An Overview about OSM Changeset Discussions : Neis One! URL https://neis-one.org/2017/07/who-is-commenting-osm-discussions/ (accessed 4.7.20).\n",
    "\n",
    "Prabhakaran, S., 2018a. Lemmatization Approaches with Examples in Python. Mach. Learn. Plus. URL https://www.machinelearningplus.com/nlp/lemmatization-examples-python/ (accessed 5.5.20).\n",
    "\n",
    "Prabhakaran, S., 2018b. Topic Modeling with Gensim (Python). Mach. Learn. Plus. URL https://www.machinelearningplus.com/nlp/topic-modeling-gensim-python/ (accessed 4.28.20).\n",
    "\n",
    "Prabhakaran, S., 2018c. Topic modeling visualization - How to present results of LDA model? | ML+. Mach. Learn. Plus. URL https://www.machinelearningplus.com/nlp/topic-modeling-visualization-how-to-present-results-lda-models/ (accessed 4.28.20).\n",
    "\n",
    "Rahman, K.M., Alam, T., Chowdhury, M., 2012. Location based early disaster warning and evacuation system on mobile phones using OpenStreetMap, in: 2012 IEEE Conference on Open Systems. Presented at the 2012 IEEE Conference on Open Systems, pp. 1–6. https://doi.org/10.1109/ICOS.2012.6417627\n",
    "\n",
    "Röder, M., Both, A., Hinneburg, A., 2015. Exploring the Space of Topic Coherence Measures, in: Proceedings of the Eighth ACM International Conference on Web Search and Data Mining - WSDM ’15. Presented at the the Eighth ACM International Conference, ACM Press, Shanghai, China, pp. 399–408. https://doi.org/10.1145/2684822.2685324\n",
    "\n",
    "Sievert, C., Shirley, K., 2014. LDAvis: A method for visualizing and interpreting topics, in: Proceedings of the Workshop on Interactive Language Learning, Visualization, and Interfaces. Presented at the Proceedings of the Workshop on Interactive Language Learning, Visualization, and Interfaces, Association for Computational Linguistics, Baltimore, Maryland, USA, pp. 63–70. https://doi.org/10.3115/v1/W14-3110\n",
    "\n",
    "Wang, L., Cardie, C., 2016. A Piece of My Mind: A Sentiment Analysis Approach for Online Dispute Detection. ArXiv160605704 Cs."
   ]
  },
  {
   "cell_type": "markdown",
   "metadata": {},
   "source": [
    "[Return to top](#top) <br>"
   ]
  }
 ],
 "metadata": {
  "kernelspec": {
   "display_name": "Python 3",
   "language": "python",
   "name": "python3"
  },
  "language_info": {
   "codemirror_mode": {
    "name": "ipython",
    "version": 3
   },
   "file_extension": ".py",
   "mimetype": "text/x-python",
   "name": "python",
   "nbconvert_exporter": "python",
   "pygments_lexer": "ipython3",
   "version": "3.7.3"
  }
 },
 "nbformat": 4,
 "nbformat_minor": 2
}
